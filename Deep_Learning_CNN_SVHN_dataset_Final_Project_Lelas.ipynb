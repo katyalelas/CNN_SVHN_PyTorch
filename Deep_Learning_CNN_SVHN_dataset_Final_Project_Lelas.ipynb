{
 "cells": [
  {
   "cell_type": "markdown",
   "metadata": {
    "colab_type": "text",
    "id": "J6FJvoyCiGcS"
   },
   "source": [
    "# Final project: Image Classification with PyTorch on SVHN dataset for Deep Learning course at Algebra UC by student Kateryna Lelas\n",
    "\n"
   ]
  },
  {
   "cell_type": "code",
   "execution_count": 0,
   "metadata": {
    "colab": {},
    "colab_type": "code",
    "id": "7kq3hXm0RnSj"
   },
   "outputs": [],
   "source": [
    "import numpy as np\n",
    "import matplotlib.pyplot as plt\n",
    "%matplotlib inline\n",
    "\n",
    "import torch\n",
    "from torch import nn\n",
    "from torch import optim\n",
    "import torch.nn.functional as F\n",
    "\n",
    "import torchvision\n",
    "from torchvision import datasets, transforms\n",
    "\n",
    "from scipy.io import loadmat"
   ]
  },
  {
   "cell_type": "markdown",
   "metadata": {
    "colab_type": "text",
    "id": "1fY2jzZBj3Zp"
   },
   "source": [
    "# Dataset information\n"
   ]
  },
  {
   "cell_type": "markdown",
   "metadata": {
    "colab_type": "text",
    "id": "WKE6HAx1j_vV"
   },
   "source": [
    "\n",
    "\n",
    "*   The Street View House Numbers dataset is the real world dataset obtained from house numbers in Google Street View images. \n",
    "*   10 classes, 1 for each digit. Digit '1' has label 1, '9' has label 9 and '0' has label 10.\n",
    "*   73257 digits for training, 26032 digits for testing, and 531131 additional, somewhat less difficult samples, to use as extra training data\n",
    "*   Can be found here: http://ufldl.stanford.edu/housenumbers/ in two formats: full numbers and cropped digits\n",
    "\n",
    "\n",
    ">  For this project the format of cropped digits was used:\n",
    "32-by-32 images centered around a single character (many of the images do contain some distractors at the sides).\n",
    "\n",
    "\n",
    "\n",
    "\n"
   ]
  },
  {
   "cell_type": "markdown",
   "metadata": {
    "colab_type": "text",
    "id": "-Vj8j6zzmO5l"
   },
   "source": [
    "# Load and View train dataset"
   ]
  },
  {
   "cell_type": "markdown",
   "metadata": {
    "colab_type": "text",
    "id": "ghOWqmk1ll2i"
   },
   "source": [
    "### Mount Google Drive"
   ]
  },
  {
   "cell_type": "code",
   "execution_count": 0,
   "metadata": {
    "colab": {
     "base_uri": "https://localhost:8080/",
     "height": 122
    },
    "colab_type": "code",
    "id": "QC3bTIgXl9TS",
    "outputId": "b07d2dbc-7088-4767-930a-b832923138d6"
   },
   "outputs": [
    {
     "name": "stdout",
     "output_type": "stream",
     "text": [
      "Go to this URL in a browser: https://accounts.google.com/o/oauth2/auth?client_id=947318989803-6bn6qk8qdgf4n4g3pfee6491hc0brc4i.apps.googleusercontent.com&redirect_uri=urn%3aietf%3awg%3aoauth%3a2.0%3aoob&response_type=code&scope=email%20https%3a%2f%2fwww.googleapis.com%2fauth%2fdocs.test%20https%3a%2f%2fwww.googleapis.com%2fauth%2fdrive%20https%3a%2f%2fwww.googleapis.com%2fauth%2fdrive.photos.readonly%20https%3a%2f%2fwww.googleapis.com%2fauth%2fpeopleapi.readonly\n",
      "\n",
      "Enter your authorization code:\n",
      "··········\n",
      "Mounted at /content/drive\n"
     ]
    }
   ],
   "source": [
    "from google.colab import drive\n",
    "drive.mount('/content/drive')"
   ]
  },
  {
   "cell_type": "code",
   "execution_count": 0,
   "metadata": {
    "colab": {
     "base_uri": "https://localhost:8080/",
     "height": 853
    },
    "colab_type": "code",
    "id": "GIBCpzPVmNYj",
    "outputId": "d12a7909-b31f-4507-bd0d-9dcd0680cfc0"
   },
   "outputs": [
    {
     "name": "stdout",
     "output_type": "stream",
     "text": [
      "/content/drive/My Drive/Colab Notebooks\n",
      " caesar_salad\n",
      " caprese_salad\n",
      "'Copy of 03_collaborative_filtering_colab.ipynb'\n",
      "'Copy of Copy of Copy of Untitled2.ipynb'\n",
      "'Copy of Copy of Untitled2 (1).ipynb'\n",
      "'Copy of Copy of Untitled2.ipynb'\n",
      "'Copy of  Fashion-MNIST (Homework)_Kateryna_Lelas (1).ipynb'\n",
      "'Copy of  Fashion-MNIST (Homework)_Kateryna_Lelas.ipynb'\n",
      "'Copy of Fashion-MNIST (Homework Solution) (1).ipynb'\n",
      "'Copy of Fashion-MNIST (Homework Solution) (2).ipynb'\n",
      "'Copy of Fashion-MNIST (Homework Solution).ipynb'\n",
      "'Copy of GradientDescentExercise.ipynb'\n",
      "'Copy of Inference and Validation (Exercises).ipynb'\n",
      "'Copy of Inference and Validation (Solution) (1).ipynb'\n",
      "'Copy of Inference and Validation (Solution).ipynb'\n",
      "'Copy of Loading Image Data (Exercises).ipynb'\n",
      "'Copy of Part 1 - Tensors in PyTorch (Exercises).ipynb'\n",
      "'Copy of Part 2 - Neural Networks in PyTorch (Exercises) (1).ipynb'\n",
      "'Copy of Part 2 - Neural Networks in PyTorch (Exercises).ipynb'\n",
      "'Copy of Saving and Loading Models.ipynb'\n",
      "'Copy of tensor_tutorial.ipynb'\n",
      "'Copy of Transfer Learning (Homework Introduction) (1).ipynb'\n",
      "'Copy of Transfer Learning (Homework Introduction).ipynb'\n",
      "'Copy of Untitled1 (1).ipynb'\n",
      "'Copy of Untitled1.ipynb'\n",
      "'Copy of Untitled2.ipynb'\n",
      "'Copy of Welcome To Colaboratory'\n",
      " datasets\n",
      " ExampleFoodImageDataset\n",
      " ExampleFoodImageDataset.zip\n",
      "' Fashion-MNIST (Homework)_Kateryna_Lelas.ipynb'\n",
      " french_fries\n",
      " greek_salad\n",
      " hamburger\n",
      " Homework_Lelas_char_rnn_classification_solution.ipynb\n",
      " hot_dog\n",
      " http:\n",
      " Lab1_test.ipynb\n",
      " LICENSE.txt\n",
      " pizza\n",
      " sashimi\n",
      " sushi\n",
      " test_32x32.mat\n",
      " train_32x32.mat\n",
      "'Transfer Learning Homework Kateryna Lelas.ipynb'\n",
      " Untitled0.ipynb\n",
      " Untitled1.ipynb\n",
      " Untitled2.ipynb\n"
     ]
    }
   ],
   "source": [
    "%cd /content/drive/My\\ Drive/Colab\\ Notebooks\n",
    "!ls"
   ]
  },
  {
   "cell_type": "markdown",
   "metadata": {
    "colab_type": "text",
    "id": "OUYWQ7tBmir9"
   },
   "source": [
    "Reference: https://pytorch.org/docs/stable/_modules/torchvision/datasets/svhn.html#SVHN\n",
    "\n",
    "### Open dataset with loadmat:\n"
   ]
  },
  {
   "cell_type": "code",
   "execution_count": 0,
   "metadata": {
    "colab": {
     "base_uri": "https://localhost:8080/",
     "height": 34
    },
    "colab_type": "code",
    "id": "7Od5goByiz5U",
    "outputId": "004ca036-ee99-4a67-fa5b-10f3c114b25b"
   },
   "outputs": [
    {
     "name": "stdout",
     "output_type": "stream",
     "text": [
      "(73257, 32, 32, 3) (73257,)\n"
     ]
    }
   ],
   "source": [
    "x = loadmat('train_32x32.mat')\n",
    "image_train, label_train = x['X'], x['y']\n",
    "label_train = label_train.astype(np.int64).squeeze()\n",
    "image_train = np.transpose(image_train, (3, 0, 1, 2)) #(width, height, channels, size) -> (size, width, height, channels)\n",
    "np.place(label_train, label_train == 10, 0) # the svhn dataset assigns the class label \"10\" to the digit 0 \n",
    "print(image_train.shape,label_train.shape)"
   ]
  },
  {
   "cell_type": "code",
   "execution_count": 0,
   "metadata": {
    "colab": {},
    "colab_type": "code",
    "id": "gk__hK94-Eim"
   },
   "outputs": [],
   "source": [
    "def show(image):\n",
    "  ig, axes = plt.subplots()\n",
    "  plt.imshow(image)"
   ]
  },
  {
   "cell_type": "code",
   "execution_count": 0,
   "metadata": {
    "colab": {
     "base_uri": "https://localhost:8080/",
     "height": 1000
    },
    "colab_type": "code",
    "id": "g6ZrJdOnja6i",
    "outputId": "8ff828cb-9b32-43e1-ad79-bd2c9d9d8d0c"
   },
   "outputs": [
    {
     "data": {
      "image/png": "[encoded data removed]",
      "text/plain": [
       "<Figure size 432x288 with 1 Axes>"
      ]
     },
     "metadata": {
      "needs_background": "light",
      "tags": []
     },
     "output_type": "display_data"
    },
    {
     "data": {
      "image/png": "[encoded data removed]",
      "text/plain": [
       "<Figure size 432x288 with 1 Axes>"
      ]
     },
     "metadata": {
      "needs_background": "light",
      "tags": []
     },
     "output_type": "display_data"
    },
    {
     "data": {
      "image/png": "[encoded data removed]",
      "text/plain": [
       "<Figure size 432x288 with 1 Axes>"
      ]
     },
     "metadata": {
      "needs_background": "light",
      "tags": []
     },
     "output_type": "display_data"
    },
    {
     "data": {
      "image/png": "[encoded data removed]",
      "text/plain": [
       "<Figure size 432x288 with 1 Axes>"
      ]
     },
     "metadata": {
      "needs_background": "light",
      "tags": []
     },
     "output_type": "display_data"
    },
    {
     "data": {
      "image/png": "[encoded data removed]",
      "text/plain": [
       "<Figure size 432x288 with 1 Axes>"
      ]
     },
     "metadata": {
      "needs_background": "light",
      "tags": []
     },
     "output_type": "display_data"
    },
    {
     "data": {
      "image/png": "[encoded data removed]",
      "text/plain": [
       "<Figure size 432x288 with 1 Axes>"
      ]
     },
     "metadata": {
      "needs_background": "light",
      "tags": []
     },
     "output_type": "display_data"
    },
    {
     "data": {
      "image/png": "[encoded data removed]",
      "text/plain": [
       "<Figure size 432x288 with 1 Axes>"
      ]
     },
     "metadata": {
      "needs_background": "light",
      "tags": []
     },
     "output_type": "display_data"
    },
    {
     "data": {
      "image/png": "[encoded data removed]",
      "text/plain": [
       "<Figure size 432x288 with 1 Axes>"
      ]
     },
     "metadata": {
      "needs_background": "light",
      "tags": []
     },
     "output_type": "display_data"
    },
    {
     "data": {
      "image/png": "[encoded data removed]",
      "text/plain": [
       "<Figure size 432x288 with 1 Axes>"
      ]
     },
     "metadata": {
      "needs_background": "light",
      "tags": []
     },
     "output_type": "display_data"
    }
   ],
   "source": [
    "def show(image):\n",
    "  ig, axes = plt.subplots()\n",
    "  plt.imshow(image)\n",
    "\n",
    "for i in range(360,369):\n",
    "  show(image_train[i])\n",
    "  plt.title('label = {}'.format(label_train[i]))"
   ]
  },
  {
   "cell_type": "code",
   "execution_count": 0,
   "metadata": {
    "colab": {
     "base_uri": "https://localhost:8080/",
     "height": 264
    },
    "colab_type": "code",
    "id": "341mMwNpmIQS",
    "outputId": "c9326f80-7576-418c-fc08-89b379286156"
   },
   "outputs": [
    {
     "data": {
      "image/png": "[encoded data removed]",
      "text/plain": [
       "<Figure size 432x288 with 1 Axes>"
      ]
     },
     "metadata": {
      "image/png": {
       "height": 248,
       "width": 251
      },
      "needs_background": "light",
      "tags": []
     },
     "output_type": "display_data"
    }
   ],
   "source": [
    "show(image_train[0])"
   ]
  },
  {
   "cell_type": "markdown",
   "metadata": {
    "colab_type": "text",
    "id": "zqLJyIRLnAr-"
   },
   "source": [
    "Transform:"
   ]
  },
  {
   "cell_type": "code",
   "execution_count": 0,
   "metadata": {
    "colab": {},
    "colab_type": "code",
    "id": "TlK2OWFJRFcN"
   },
   "outputs": [],
   "source": [
    "transform = transforms.Compose([\n",
    "                                transforms.ToPILImage(),\n",
    "                                transforms.CenterCrop((28, 28)),\n",
    "                                transforms.Grayscale(num_output_channels=1),                              \n",
    "                                transforms.ToTensor(),\n",
    "                                transforms.Normalize([0.5,],[0.5,])\n",
    "                                ])"
   ]
  },
  {
   "cell_type": "code",
   "execution_count": 0,
   "metadata": {
    "colab": {
     "base_uri": "https://localhost:8080/",
     "height": 1000
    },
    "colab_type": "code",
    "id": "Qz8RaaCEnPmN",
    "outputId": "2454aeca-ec3e-48e5-8248-029d1a58847d"
   },
   "outputs": [
    {
     "data": {
      "image/png": "[encoded data removed]",
      "text/plain": [
       "<Figure size 432x288 with 1 Axes>"
      ]
     },
     "metadata": {
      "needs_background": "light",
      "tags": []
     },
     "output_type": "display_data"
    },
    {
     "data": {
      "image/png": "[encoded data removed]",
      "text/plain": [
       "<Figure size 432x288 with 1 Axes>"
      ]
     },
     "metadata": {
      "needs_background": "light",
      "tags": []
     },
     "output_type": "display_data"
    },
    {
     "data": {
      "image/png": "[encoded data removed]",
      "text/plain": [
       "<Figure size 432x288 with 1 Axes>"
      ]
     },
     "metadata": {
      "needs_background": "light",
      "tags": []
     },
     "output_type": "display_data"
    },
    {
     "data": {
      "image/png": "[encoded data removed]",
      "text/plain": [
       "<Figure size 432x288 with 1 Axes>"
      ]
     },
     "metadata": {
      "needs_background": "light",
      "tags": []
     },
     "output_type": "display_data"
    },
    {
     "data": {
      "image/png": "[encoded data removed]",
      "text/plain": [
       "<Figure size 432x288 with 1 Axes>"
      ]
     },
     "metadata": {
      "needs_background": "light",
      "tags": []
     },
     "output_type": "display_data"
    },
    {
     "data": {
      "image/png": "[encoded data removed]",
      "text/plain": [
       "<Figure size 432x288 with 1 Axes>"
      ]
     },
     "metadata": {
      "needs_background": "light",
      "tags": []
     },
     "output_type": "display_data"
    },
    {
     "data": {
      "image/png": "[encoded data removed]",
      "text/plain": [
       "<Figure size 432x288 with 1 Axes>"
      ]
     },
     "metadata": {
      "needs_background": "light",
      "tags": []
     },
     "output_type": "display_data"
    },
    {
     "data": {
      "image/png": "[encoded data removed]",
      "text/plain": [
       "<Figure size 432x288 with 1 Axes>"
      ]
     },
     "metadata": {
      "needs_background": "light",
      "tags": []
     },
     "output_type": "display_data"
    },
    {
     "data": {
      "image/png": "[encoded data removed]",
      "text/plain": [
       "<Figure size 432x288 with 1 Axes>"
      ]
     },
     "metadata": {
      "needs_background": "light",
      "tags": []
     },
     "output_type": "display_data"
    },
    {
     "data": {
      "image/png": "[encoded data removed]",
      "text/plain": [
       "<Figure size 432x288 with 1 Axes>"
      ]
     },
     "metadata": {
      "needs_background": "light",
      "tags": []
     },
     "output_type": "display_data"
    }
   ],
   "source": [
    "for i in range(359,369):\n",
    "  show(transform_one_channel(image_train[i]).numpy().squeeze())\n",
    "  plt.title('label = {}'.format(label_train[i]))"
   ]
  },
  {
   "cell_type": "markdown",
   "metadata": {
    "colab_type": "text",
    "id": "L43KivHnmU-p"
   },
   "source": [
    "# Load and View test dataset\n"
   ]
  },
  {
   "cell_type": "code",
   "execution_count": 0,
   "metadata": {
    "colab": {
     "base_uri": "https://localhost:8080/",
     "height": 34
    },
    "colab_type": "code",
    "id": "cdSfaIiale2c",
    "outputId": "8995f2ad-5f92-42b7-dada-4690c3ebed13"
   },
   "outputs": [
    {
     "name": "stdout",
     "output_type": "stream",
     "text": [
      "(26032, 32, 32, 3) (26032,)\n"
     ]
    }
   ],
   "source": [
    "x_test = loadmat('test_32x32.mat')\n",
    "image_test, label_test = x_test['X'], x_test['y']\n",
    "label_test = label_test.astype(np.int64).squeeze()\n",
    "image_test = np.transpose(image_test, (3, 0, 1, 2)) #(width, height, channels, size) -> (size, width, height, channels)\n",
    "np.place(label_test, label_test == 10, 0) # the svhn dataset assigns the class label \"10\" to the digit 0 this makes it inconsistent with several loss functions which expect the class labels to be in the range [0, C-1]\n",
    "print(image_test.shape,label_test.shape)"
   ]
  },
  {
   "cell_type": "code",
   "execution_count": 0,
   "metadata": {
    "colab": {
     "base_uri": "https://localhost:8080/",
     "height": 34
    },
    "colab_type": "code",
    "id": "ab5sZQLNlfCq",
    "outputId": "3ad57b54-30f2-4a29-f04c-d1ffe9d40991"
   },
   "outputs": [
    {
     "name": "stdout",
     "output_type": "stream",
     "text": [
      "train data = 73.78 %, test data =  26.22 %\n"
     ]
    }
   ],
   "source": [
    "print('train data =', round(73257/99289,4 )*100, '%, test data = ', round(1-73257/99289,4) *100, '%' )"
   ]
  },
  {
   "cell_type": "code",
   "execution_count": 0,
   "metadata": {
    "colab": {
     "base_uri": "https://localhost:8080/",
     "height": 1000
    },
    "colab_type": "code",
    "id": "d0-QVz6Gl7le",
    "outputId": "74100357-151f-42e0-c0f3-abe90fbb96e5"
   },
   "outputs": [
    {
     "data": {
      "image/png": "[encoded data removed]",
      "text/plain": [
       "<Figure size 432x288 with 1 Axes>"
      ]
     },
     "metadata": {
      "needs_background": "light",
      "tags": []
     },
     "output_type": "display_data"
    },
    {
     "data": {
      "image/png": "[encoded data removed]",
      "text/plain": [
       "<Figure size 432x288 with 1 Axes>"
      ]
     },
     "metadata": {
      "needs_background": "light",
      "tags": []
     },
     "output_type": "display_data"
    },
    {
     "data": {
      "image/png": "[encoded data removed]",
      "text/plain": [
       "<Figure size 432x288 with 1 Axes>"
      ]
     },
     "metadata": {
      "needs_background": "light",
      "tags": []
     },
     "output_type": "display_data"
    },
    {
     "data": {
      "image/png": "[encoded data removed]",
      "text/plain": [
       "<Figure size 432x288 with 1 Axes>"
      ]
     },
     "metadata": {
      "needs_background": "light",
      "tags": []
     },
     "output_type": "display_data"
    },
    {
     "data": {
      "image/png": "[encoded data removed]",
      "text/plain": [
       "<Figure size 432x288 with 1 Axes>"
      ]
     },
     "metadata": {
      "needs_background": "light",
      "tags": []
     },
     "output_type": "display_data"
    }
   ],
   "source": [
    "def show(image):\n",
    "  ig, axes = plt.subplots()\n",
    "  plt.imshow(image)\n",
    "\n",
    "for i in range(3,8):\n",
    "  show(image_test[i])\n",
    "  plt.title('label = {}'.format(label_test[i]))"
   ]
  },
  {
   "cell_type": "code",
   "execution_count": 0,
   "metadata": {
    "colab": {
     "base_uri": "https://localhost:8080/",
     "height": 1000
    },
    "colab_type": "code",
    "id": "5uo__suQ3gt3",
    "outputId": "a8b93949-4b57-46fc-b62f-5a86070590d3"
   },
   "outputs": [
    {
     "data": {
      "image/png": "[encoded data removed]",
      "text/plain": [
       "<Figure size 432x288 with 1 Axes>"
      ]
     },
     "metadata": {
      "needs_background": "light",
      "tags": []
     },
     "output_type": "display_data"
    },
    {
     "data": {
      "image/png": "[encoded data removed]",
      "text/plain": [
       "<Figure size 432x288 with 1 Axes>"
      ]
     },
     "metadata": {
      "needs_background": "light",
      "tags": []
     },
     "output_type": "display_data"
    },
    {
     "data": {
      "image/png": "[encoded data removed]",
      "text/plain": [
       "<Figure size 432x288 with 1 Axes>"
      ]
     },
     "metadata": {
      "needs_background": "light",
      "tags": []
     },
     "output_type": "display_data"
    },
    {
     "data": {
      "image/png": "[encoded data removed]",
      "text/plain": [
       "<Figure size 432x288 with 1 Axes>"
      ]
     },
     "metadata": {
      "needs_background": "light",
      "tags": []
     },
     "output_type": "display_data"
    }
   ],
   "source": [
    "for i in range(0,4):\n",
    "  show(transform_one_channel(image_test[i]).numpy().squeeze())\n",
    "  plt.title('label = {}'.format(label_test[i]))"
   ]
  },
  {
   "cell_type": "markdown",
   "metadata": {
    "colab_type": "text",
    "id": "YKVIg_EBm4f-"
   },
   "source": [
    "## Transform and prepare for model\n",
    "\n"
   ]
  },
  {
   "cell_type": "code",
   "execution_count": 0,
   "metadata": {
    "colab": {},
    "colab_type": "code",
    "id": "cY0wLI8mm17E"
   },
   "outputs": [],
   "source": [
    "transform_one_channel = transforms.Compose([\n",
    "                                transforms.ToPILImage(),\n",
    "                                transforms.CenterCrop((28, 28)),\n",
    "                                transforms.Grayscale(num_output_channels=1),                              \n",
    "                                transforms.ToTensor(),\n",
    "                                transforms.Normalize([0.5,],[0.5,])\n",
    "                                ])"
   ]
  },
  {
   "cell_type": "code",
   "execution_count": 0,
   "metadata": {
    "colab": {},
    "colab_type": "code",
    "id": "f9bPN_Bqo8Vc"
   },
   "outputs": [],
   "source": [
    "transform = transforms.Compose([transforms.ToPILImage(),\n",
    "                                transforms.CenterCrop((28, 28)),                           \n",
    "                                transforms.ToTensor(),\n",
    "                                transforms.Normalize([0.5,0.5,0.5],[0.5,0.5,0.5])\n",
    "                                ])"
   ]
  },
  {
   "cell_type": "code",
   "execution_count": 0,
   "metadata": {
    "colab": {},
    "colab_type": "code",
    "id": "-HsJkkFjW8cz"
   },
   "outputs": [],
   "source": [
    "img_train_transform= torch.stack([transform(x) for x in image_train])\n",
    "lable_train = torch.from_numpy(label_train)"
   ]
  },
  {
   "cell_type": "code",
   "execution_count": 0,
   "metadata": {
    "colab": {
     "base_uri": "https://localhost:8080/",
     "height": 34
    },
    "colab_type": "code",
    "id": "tkM-RZt3oIGU",
    "outputId": "8fdd5f27-b8a7-47d3-c5b4-3c32dda6de65"
   },
   "outputs": [
    {
     "data": {
      "text/plain": [
       "torch.Size([73257, 3, 28, 28])"
      ]
     },
     "execution_count": 32,
     "metadata": {
      "tags": []
     },
     "output_type": "execute_result"
    }
   ],
   "source": [
    "img_train_transform.shape"
   ]
  },
  {
   "cell_type": "code",
   "execution_count": 0,
   "metadata": {
    "colab": {
     "base_uri": "https://localhost:8080/",
     "height": 34
    },
    "colab_type": "code",
    "id": "TuVzhVZ3oMwl",
    "outputId": "be377e72-58be-48bc-b314-5cbdc0ae63ee"
   },
   "outputs": [
    {
     "data": {
      "text/plain": [
       "torch.Size([73257])"
      ]
     },
     "execution_count": 33,
     "metadata": {
      "tags": []
     },
     "output_type": "execute_result"
    }
   ],
   "source": [
    "lable_train.shape"
   ]
  },
  {
   "cell_type": "code",
   "execution_count": 0,
   "metadata": {
    "colab": {
     "base_uri": "https://localhost:8080/",
     "height": 34
    },
    "colab_type": "code",
    "id": "wZZxf3lOoRUj",
    "outputId": "87f828a3-0cf2-43d2-bf3d-8f4fb4781689"
   },
   "outputs": [
    {
     "name": "stdout",
     "output_type": "stream",
     "text": [
      "torch.Size([26032, 3, 28, 28]) torch.Size([26032])\n"
     ]
    }
   ],
   "source": [
    "img_test_transform= torch.stack([transform(x) for x in image_test])\n",
    "label_test = torch.from_numpy(label_test)\n",
    "print(img_test_transform.shape, label_test.shape)"
   ]
  },
  {
   "cell_type": "markdown",
   "metadata": {
    "colab_type": "text",
    "id": "Rzjy1zTNXpjP"
   },
   "source": [
    "# Load & transform SVHN test and train datasets in batches with DataLoader"
   ]
  },
  {
   "cell_type": "code",
   "execution_count": 0,
   "metadata": {
    "colab": {
     "base_uri": "https://localhost:8080/",
     "height": 102
    },
    "colab_type": "code",
    "id": "lOyFmBwEPhgu",
    "outputId": "92182acf-5c0d-446c-e1ab-8b4b16abc222"
   },
   "outputs": [
    {
     "name": "stdout",
     "output_type": "stream",
     "text": [
      "Using downloaded and verified file: http://ufldl.stanford.edu/housenumbers/train_32x32.mat\n",
      "Using downloaded and verified file: http://ufldl.stanford.edu/housenumbers/test_32x32.mat\n",
      "Shape of train inputs:  torch.Size([64, 3, 28, 28]) ; Shape of train labels:  torch.Size([64])\n",
      "Shape of test inputs:  torch.Size([64, 3, 28, 28]) ; Shape of test inputs:  torch.Size([64])\n",
      "Batch size = 64\n"
     ]
    }
   ],
   "source": [
    "\n",
    "root='http://ufldl.stanford.edu/housenumbers/'\n",
    "\n",
    "transform = transforms.Compose([\n",
    "                                transforms.CenterCrop((28, 28)),\n",
    "                                transforms.ToTensor(),\n",
    "                                #transforms.Normalize([0.5,],[0.5,])\n",
    "                                transforms.Normalize([0.5,0.5,0.5], [0.5,0.5,0.5])\n",
    "                                ])\n",
    "\n",
    "train = torchvision.datasets.SVHN(root, split='train', transform=transform, target_transform=None, download=True)\n",
    "\n",
    "dataloader_train = torch.utils.data.DataLoader(train, batch_size=64, shuffle=True)\n",
    "\n",
    "test = torchvision.datasets.SVHN(root, split='test', transform=transform, target_transform=None, download=True)\n",
    "\n",
    "dataloader_test = torch.utils.data.DataLoader(test, batch_size=64, shuffle=True)\n",
    "\n",
    "images_train, labels_train = next(iter(dataloader_train))\n",
    "images_test, labels_test = next(iter(dataloader_test))\n",
    "\n",
    "print(\"Shape of train inputs: \", images_train.shape, \"; Shape of train labels: \", labels_train.shape)\n",
    "print(\"Shape of test inputs: \",images_test.shape, \"; Shape of test inputs: \", labels_test.shape)\n",
    "print(\"Batch size = 64\")"
   ]
  },
  {
   "cell_type": "code",
   "execution_count": 0,
   "metadata": {
    "colab": {},
    "colab_type": "code",
    "id": "Jh9YRg3PuP8E"
   },
   "outputs": [],
   "source": []
  },
  {
   "cell_type": "code",
   "execution_count": 0,
   "metadata": {
    "colab": {
     "base_uri": "https://localhost:8080/",
     "height": 102
    },
    "colab_type": "code",
    "id": "13hLSR_rtyAM",
    "outputId": "53570563-71bf-4a43-9516-25d6ffab7bfd"
   },
   "outputs": [
    {
     "name": "stdout",
     "output_type": "stream",
     "text": [
      "Using downloaded and verified file: http://ufldl.stanford.edu/housenumbers/train_32x32.mat\n",
      "Using downloaded and verified file: http://ufldl.stanford.edu/housenumbers/test_32x32.mat\n",
      "Shape of train inputs:  torch.Size([64, 1, 28, 28]) ; Shape of train labels:  torch.Size([64])\n",
      "Shape of test inputs:  torch.Size([64, 1, 28, 28]) ; Shape of test inputs:  torch.Size([64])\n",
      "Batch size = 64\n"
     ]
    }
   ],
   "source": [
    "\n",
    "root='http://ufldl.stanford.edu/housenumbers/'\n",
    "\n",
    "transform_one_channel = transforms.Compose([\n",
    "                               # transforms.ToPILImage(),\n",
    "                                transforms.CenterCrop((28, 28)),\n",
    "                                transforms.Grayscale(num_output_channels=1),                              \n",
    "                                transforms.ToTensor(),\n",
    "                                transforms.Normalize([0.5,],[0.5,])\n",
    "                                ])\n",
    "\n",
    "train = torchvision.datasets.SVHN(root, split='train', transform=transform_one_channel, target_transform=None, download=True)\n",
    "\n",
    "dataloader_train = torch.utils.data.DataLoader(train, batch_size=64, shuffle=True)\n",
    "\n",
    "test = torchvision.datasets.SVHN(root, split='test', transform=transform_one_channel, target_transform=None, download=True)\n",
    "\n",
    "dataloader_test = torch.utils.data.DataLoader(test, batch_size=64, shuffle=True)\n",
    "\n",
    "images_train, labels_train = next(iter(dataloader_train))\n",
    "images_test, labels_test = next(iter(dataloader_test))\n",
    "\n",
    "print(\"Shape of train inputs: \", images_train.shape, \"; Shape of train labels: \", labels_train.shape)\n",
    "print(\"Shape of test inputs: \",images_test.shape, \"; Shape of test inputs: \", labels_test.shape)\n",
    "print(\"Batch size = 64\")\n",
    "\n"
   ]
  },
  {
   "cell_type": "code",
   "execution_count": 0,
   "metadata": {
    "colab": {},
    "colab_type": "code",
    "id": "RPQjh9QVu8-p"
   },
   "outputs": [],
   "source": []
  },
  {
   "cell_type": "code",
   "execution_count": 0,
   "metadata": {
    "colab": {},
    "colab_type": "code",
    "id": "9JgTuapdunSt"
   },
   "outputs": [],
   "source": [
    "dataiter = iter(dataloader_test)\n",
    "images, labels = dataiter.next()\n",
    "img = images[1]\n"
   ]
  },
  {
   "cell_type": "code",
   "execution_count": 0,
   "metadata": {
    "colab": {
     "base_uri": "https://localhost:8080/",
     "height": 264
    },
    "colab_type": "code",
    "id": "vuylcH8OuuVV",
    "outputId": "f953acf7-2a01-4ad3-924d-7f0f2c2127c4"
   },
   "outputs": [
    {
     "data": {
      "image/png": "[encoded data removed]",
      "text/plain": [
       "<Figure size 432x288 with 1 Axes>"
      ]
     },
     "metadata": {
      "needs_background": "light",
      "tags": []
     },
     "output_type": "display_data"
    }
   ],
   "source": [
    "show(img.numpy().squeeze())"
   ]
  },
  {
   "cell_type": "code",
   "execution_count": 0,
   "metadata": {
    "colab": {},
    "colab_type": "code",
    "id": "Rem-_gGPupRW"
   },
   "outputs": [],
   "source": []
  },
  {
   "cell_type": "markdown",
   "metadata": {
    "colab_type": "text",
    "id": "93VsoSWnO1Cv"
   },
   "source": [
    "# Build the model\n"
   ]
  },
  {
   "cell_type": "code",
   "execution_count": 0,
   "metadata": {
    "colab": {},
    "colab_type": "code",
    "id": "IllJ_Y5N6RNt"
   },
   "outputs": [],
   "source": [
    "class Classifier(nn.Module):\n",
    "    def __init__(self):\n",
    "        super().__init__()\n",
    "        self.fc1 = nn.Linear(2352, 512) # 28*28*3\n",
    "        self.fc2 = nn.Linear(512, 256)\n",
    "        self.fc3 = nn.Linear(256, 128) \n",
    "        self.fc4 = nn.Linear(128, 64)\n",
    "        self.fc5 = nn.Linear(64, 10)\n",
    "        \n",
    "    def forward(self, x):\n",
    "        # (batch size, channels, H, W) : (64, 3, 28, 28)\n",
    "        x = x.view(x.shape[0], -1)     \n",
    "        x = F.relu(self.fc1(x))\n",
    "        x = F.relu(self.fc2(x))\n",
    "        x = F.relu(self.fc3(x))\n",
    "        x = F.relu(self.fc4(x))\n",
    "        x = F.log_softmax(self.fc5(x), dim=1)\n",
    "\n",
    "        return x"
   ]
  },
  {
   "cell_type": "markdown",
   "metadata": {
    "colab_type": "text",
    "id": "-E1WJDRdtN1y"
   },
   "source": [
    "## Make cuda available"
   ]
  },
  {
   "cell_type": "code",
   "execution_count": 0,
   "metadata": {
    "colab": {},
    "colab_type": "code",
    "id": "ZBXCSk6N6RLR"
   },
   "outputs": [],
   "source": [
    "model = Classifier()\n",
    "device = torch.device(\"cuda\" if torch.cuda.is_available() else \"cpu\")\n",
    "model=model.to(device)"
   ]
  },
  {
   "cell_type": "code",
   "execution_count": 0,
   "metadata": {
    "colab": {
     "base_uri": "https://localhost:8080/",
     "height": 34
    },
    "colab_type": "code",
    "id": "Wv2oLINSO1ck",
    "outputId": "f3360cf9-f740-41b3-ef7a-52447f4896bc"
   },
   "outputs": [
    {
     "data": {
      "text/plain": [
       "True"
      ]
     },
     "execution_count": 71,
     "metadata": {
      "tags": []
     },
     "output_type": "execute_result"
    }
   ],
   "source": [
    "torch.cuda.is_available()"
   ]
  },
  {
   "cell_type": "code",
   "execution_count": 0,
   "metadata": {
    "colab": {
     "base_uri": "https://localhost:8080/",
     "height": 34
    },
    "colab_type": "code",
    "id": "WVCJHWpIO4p3",
    "outputId": "60c14325-5793-4743-d64a-e8e5fc771316"
   },
   "outputs": [
    {
     "data": {
      "text/plain": [
       "<torch.cuda.Stream device=cuda:0 cuda_stream=0x0>"
      ]
     },
     "execution_count": 72,
     "metadata": {
      "tags": []
     },
     "output_type": "execute_result"
    }
   ],
   "source": [
    "torch.cuda.current_stream()"
   ]
  },
  {
   "cell_type": "markdown",
   "metadata": {
    "colab_type": "text",
    "id": "Y_ghuD0ZtYpI"
   },
   "source": [
    "## Optimizer & criterion \n"
   ]
  },
  {
   "cell_type": "code",
   "execution_count": 0,
   "metadata": {
    "colab": {},
    "colab_type": "code",
    "id": "toHN64lYwl--"
   },
   "outputs": [],
   "source": [
    "criterion = nn.NLLLoss()\n",
    "optimizer = optim.Adam(model.parameters(), lr=0.003)"
   ]
  },
  {
   "cell_type": "markdown",
   "metadata": {
    "colab_type": "text",
    "id": "SdnaJxtVOtDS"
   },
   "source": [
    "# Train and test the model "
   ]
  },
  {
   "cell_type": "code",
   "execution_count": 0,
   "metadata": {
    "colab": {
     "base_uri": "https://localhost:8080/",
     "height": 870
    },
    "colab_type": "code",
    "id": "3FgyYlZH6WGN",
    "outputId": "221478cd-778c-410d-c2f6-da31bdbadeeb"
   },
   "outputs": [
    {
     "name": "stdout",
     "output_type": "stream",
     "text": [
      "Epoch: 1/50  Training Loss: 0.738  Test Loss: 1.010  Test Accuracy: 0.716\n",
      "Epoch: 2/50  Training Loss: 0.689  Test Loss: 0.958  Test Accuracy: 0.734\n",
      "Epoch: 3/50  Training Loss: 0.666  Test Loss: 0.904  Test Accuracy: 0.741\n",
      "Epoch: 4/50  Training Loss: 0.641  Test Loss: 0.800  Test Accuracy: 0.776\n",
      "Epoch: 5/50  Training Loss: 0.618  Test Loss: 0.916  Test Accuracy: 0.749\n",
      "Epoch: 6/50  Training Loss: 0.608  Test Loss: 0.928  Test Accuracy: 0.749\n",
      "Epoch: 7/50  Training Loss: 0.588  Test Loss: 0.909  Test Accuracy: 0.761\n",
      "Epoch: 8/50  Training Loss: 0.576  Test Loss: 0.881  Test Accuracy: 0.765\n",
      "Epoch: 9/50  Training Loss: 0.560  Test Loss: 0.782  Test Accuracy: 0.784\n",
      "Epoch: 10/50  Training Loss: 0.543  Test Loss: 0.797  Test Accuracy: 0.787\n",
      "Epoch: 11/50  Training Loss: 0.533  Test Loss: 0.812  Test Accuracy: 0.782\n",
      "Epoch: 12/50  Training Loss: 0.525  Test Loss: 0.780  Test Accuracy: 0.798\n",
      "Epoch: 13/50  Training Loss: 0.523  Test Loss: 0.799  Test Accuracy: 0.798\n",
      "Epoch: 14/50  Training Loss: 0.507  Test Loss: 0.827  Test Accuracy: 0.790\n",
      "Epoch: 15/50  Training Loss: 0.491  Test Loss: 0.795  Test Accuracy: 0.794\n",
      "Epoch: 16/50  Training Loss: 0.487  Test Loss: 0.831  Test Accuracy: 0.790\n",
      "Epoch: 17/50  Training Loss: 0.483  Test Loss: 0.761  Test Accuracy: 0.805\n",
      "Epoch: 18/50  Training Loss: 0.474  Test Loss: 0.741  Test Accuracy: 0.808\n",
      "Epoch: 19/50  Training Loss: 0.470  Test Loss: 0.803  Test Accuracy: 0.794\n",
      "Epoch: 20/50  Training Loss: 0.473  Test Loss: 0.808  Test Accuracy: 0.801\n",
      "Epoch: 21/50  Training Loss: 0.455  Test Loss: 0.767  Test Accuracy: 0.808\n",
      "Epoch: 22/50  Training Loss: 0.460  Test Loss: 0.793  Test Accuracy: 0.799\n",
      "Epoch: 23/50  Training Loss: 0.460  Test Loss: 0.792  Test Accuracy: 0.796\n",
      "Epoch: 24/50  Training Loss: 0.445  Test Loss: 0.823  Test Accuracy: 0.795\n",
      "Epoch: 25/50  Training Loss: 0.437  Test Loss: 0.820  Test Accuracy: 0.798\n",
      "Epoch: 26/50  Training Loss: 0.436  Test Loss: 0.776  Test Accuracy: 0.812\n",
      "Epoch: 27/50  Training Loss: 0.429  Test Loss: 0.841  Test Accuracy: 0.795\n",
      "Epoch: 28/50  Training Loss: 0.424  Test Loss: 0.791  Test Accuracy: 0.810\n",
      "Epoch: 29/50  Training Loss: 0.427  Test Loss: 0.818  Test Accuracy: 0.804\n",
      "Epoch: 30/50  Training Loss: 0.419  Test Loss: 0.899  Test Accuracy: 0.795\n",
      "Epoch: 31/50  Training Loss: 0.420  Test Loss: 0.826  Test Accuracy: 0.805\n",
      "Epoch: 32/50  Training Loss: 0.407  Test Loss: 0.833  Test Accuracy: 0.813\n",
      "Epoch: 33/50  Training Loss: 0.411  Test Loss: 0.820  Test Accuracy: 0.803\n",
      "Epoch: 34/50  Training Loss: 0.407  Test Loss: 0.874  Test Accuracy: 0.807\n",
      "Epoch: 35/50  Training Loss: 0.416  Test Loss: 0.893  Test Accuracy: 0.793\n",
      "Epoch: 36/50  Training Loss: 0.395  Test Loss: 0.852  Test Accuracy: 0.803\n",
      "Epoch: 37/50  Training Loss: 0.398  Test Loss: 0.794  Test Accuracy: 0.812\n",
      "Epoch: 38/50  Training Loss: 0.423  Test Loss: 0.822  Test Accuracy: 0.806\n",
      "Epoch: 39/50  Training Loss: 0.389  Test Loss: 0.824  Test Accuracy: 0.814\n",
      "Epoch: 40/50  Training Loss: 0.397  Test Loss: 0.827  Test Accuracy: 0.811\n",
      "Epoch: 41/50  Training Loss: 0.379  Test Loss: 0.899  Test Accuracy: 0.797\n",
      "Epoch: 42/50  Training Loss: 0.383  Test Loss: 0.827  Test Accuracy: 0.816\n",
      "Epoch: 43/50  Training Loss: 0.385  Test Loss: 0.901  Test Accuracy: 0.795\n",
      "Epoch: 44/50  Training Loss: 0.392  Test Loss: 0.837  Test Accuracy: 0.818\n",
      "Epoch: 45/50  Training Loss: 0.395  Test Loss: 0.877  Test Accuracy: 0.806\n",
      "Epoch: 46/50  Training Loss: 0.367  Test Loss: 0.902  Test Accuracy: 0.801\n",
      "Epoch: 47/50  Training Loss: 0.373  Test Loss: 0.824  Test Accuracy: 0.821\n",
      "Epoch: 48/50  Training Loss: 0.368  Test Loss: 0.854  Test Accuracy: 0.811\n",
      "Epoch: 49/50  Training Loss: 0.372  Test Loss: 0.837  Test Accuracy: 0.812\n",
      "Epoch: 50/50  Training Loss: 0.378  Test Loss: 0.884  Test Accuracy: 0.806\n"
     ]
    }
   ],
   "source": [
    "epochs = 50\n",
    "\n",
    "for e in range(epochs):\n",
    "    train_loss = 0\n",
    "    test_loss = 0\n",
    "    accuracy = 0\n",
    "\n",
    "    for images, labels in dataloader_train:\n",
    "\n",
    "      images=images.to(device)\n",
    "      labels=labels.to(device)\n",
    "\n",
    "      log_ps = model(images)\n",
    "      loss = criterion(log_ps, labels)\n",
    "        \n",
    "      optimizer.zero_grad()\n",
    "      loss.backward()\n",
    "      optimizer.step()\n",
    "        \n",
    "      train_loss += loss.item()\n",
    "\n",
    "    else:\n",
    "      with torch.no_grad():\n",
    "        for img, labels in dataloader_test:\n",
    "          img=img.to(device)\n",
    "          labels=labels.to(device)\n",
    "\n",
    "          log_ps=model(img)\n",
    "          loss = criterion(log_ps, labels)\n",
    "\n",
    "          test_loss+= loss.item()\n",
    "          \n",
    "          ps = torch.exp(log_ps)\n",
    "          top_p, top_class = ps.topk(1, dim=1)\n",
    "          equals = top_class == labels.view(*top_class.shape)\n",
    "          accuracy += torch.mean(equals.type(torch.FloatTensor))\n",
    "\n",
    "\n",
    "      print(\"Epoch: {}/{} \".format(e+1, epochs),\n",
    "            \"Training Loss: {:.3f} \".format(train_loss/len(dataloader_train)),\n",
    "            \"Test Loss: {:.3f} \".format(test_loss/len(dataloader_test)),\n",
    "            \"Test Accuracy: {:.3f}\".format(accuracy/len(dataloader_test)))\n",
    "\n",
    "\n"
   ]
  },
  {
   "cell_type": "code",
   "execution_count": 0,
   "metadata": {
    "colab": {},
    "colab_type": "code",
    "id": "H2ToBbiz7gx5"
   },
   "outputs": [],
   "source": [
    "model=Classifier()"
   ]
  },
  {
   "cell_type": "code",
   "execution_count": 0,
   "metadata": {
    "colab": {
     "base_uri": "https://localhost:8080/",
     "height": 136
    },
    "colab_type": "code",
    "id": "SM8RhYnZ7g_R",
    "outputId": "97e1e873-8e4d-4a42-9590-bcd2933fc956"
   },
   "outputs": [
    {
     "data": {
      "text/plain": [
       "Classifier(\n",
       "  (fc1): Linear(in_features=2352, out_features=512, bias=True)\n",
       "  (fc2): Linear(in_features=512, out_features=256, bias=True)\n",
       "  (fc3): Linear(in_features=256, out_features=128, bias=True)\n",
       "  (fc4): Linear(in_features=128, out_features=64, bias=True)\n",
       "  (fc5): Linear(in_features=64, out_features=10, bias=True)\n",
       ")"
      ]
     },
     "execution_count": 44,
     "metadata": {
      "tags": []
     },
     "output_type": "execute_result"
    }
   ],
   "source": [
    "model"
   ]
  },
  {
   "cell_type": "code",
   "execution_count": 0,
   "metadata": {
    "colab": {},
    "colab_type": "code",
    "id": "ty949DzA6RIK"
   },
   "outputs": [],
   "source": []
  },
  {
   "cell_type": "markdown",
   "metadata": {
    "colab_type": "text",
    "id": "s8qQUUNBxJVM"
   },
   "source": [
    "# Train with one channel inputs"
   ]
  },
  {
   "cell_type": "code",
   "execution_count": 0,
   "metadata": {
    "colab": {
     "base_uri": "https://localhost:8080/",
     "height": 102
    },
    "colab_type": "code",
    "id": "8tbQyyi6PnO6",
    "outputId": "eb74668a-603b-4e9c-ad55-d1d90fec16ea"
   },
   "outputs": [
    {
     "name": "stdout",
     "output_type": "stream",
     "text": [
      "Using downloaded and verified file: http://ufldl.stanford.edu/housenumbers/train_32x32.mat\n",
      "Using downloaded and verified file: http://ufldl.stanford.edu/housenumbers/test_32x32.mat\n",
      "Shape of train inputs:  torch.Size([64, 1, 28, 28]) ; Shape of train labels:  torch.Size([64])\n",
      "Shape of test inputs:  torch.Size([64, 1, 28, 28]) ; Shape of test inputs:  torch.Size([64])\n",
      "Batch size = 64\n"
     ]
    }
   ],
   "source": [
    "\n",
    "root='http://ufldl.stanford.edu/housenumbers/'\n",
    "\n",
    "transform_one_channel = transforms.Compose([\n",
    "                               # transforms.ToPILImage(),\n",
    "                                transforms.CenterCrop((28, 28)),\n",
    "                                transforms.Grayscale(num_output_channels=1),                              \n",
    "                                transforms.ToTensor(),\n",
    "                                transforms.Normalize([0.5,],[0.5,])\n",
    "                                ])\n",
    "\n",
    "train = torchvision.datasets.SVHN(root, split='train', transform=transform_one_channel, target_transform=None, download=True)\n",
    "\n",
    "dataloader_train = torch.utils.data.DataLoader(train, batch_size=64, shuffle=True)\n",
    "\n",
    "test = torchvision.datasets.SVHN(root, split='test', transform=transform_one_channel, target_transform=None, download=True)\n",
    "\n",
    "dataloader_test = torch.utils.data.DataLoader(test, batch_size=64, shuffle=True)\n",
    "\n",
    "images_train, labels_train = next(iter(dataloader_train))\n",
    "images_test, labels_test = next(iter(dataloader_test))\n",
    "\n",
    "print(\"Shape of train inputs: \", images_train.shape, \"; Shape of train labels: \", labels_train.shape)\n",
    "print(\"Shape of test inputs: \",images_test.shape, \"; Shape of test inputs: \", labels_test.shape)\n",
    "print(\"Batch size = 64\")\n",
    "\n",
    "\n",
    "class Classifier(nn.Module):\n",
    "    def __init__(self):\n",
    "        super().__init__()\n",
    "        self.fc1 = nn.Linear(784, 256)\n",
    "        self.fc2 = nn.Linear(256, 128) \n",
    "        self.fc3 = nn.Linear(128, 64)\n",
    "        self.fc4 = nn.Linear(64, 10)\n",
    "        \n",
    "    def forward(self, x):\n",
    "        x = x.view(x.shape[0], -1)     \n",
    "        x = F.relu(self.fc1(x))\n",
    "        x = F.relu(self.fc2(x))\n",
    "        x = F.relu(self.fc3(x))\n",
    "        x = F.log_softmax(self.fc4(x), dim=1)\n",
    "\n",
    "        return x"
   ]
  },
  {
   "cell_type": "code",
   "execution_count": 0,
   "metadata": {
    "colab": {},
    "colab_type": "code",
    "id": "bVmGO9R8vgn9"
   },
   "outputs": [],
   "source": [
    "model = Classifier()\n",
    "device = torch.device(\"cuda\" if torch.cuda.is_available() else \"cpu\")\n",
    "model=model.to(device)"
   ]
  },
  {
   "cell_type": "code",
   "execution_count": 0,
   "metadata": {
    "colab": {},
    "colab_type": "code",
    "id": "yl3yBiodwshE"
   },
   "outputs": [],
   "source": [
    "criterion = nn.NLLLoss()\n",
    "optimizer = optim.Adam(model.parameters(), lr=0.003)"
   ]
  },
  {
   "cell_type": "code",
   "execution_count": 0,
   "metadata": {
    "colab": {
     "base_uri": "https://localhost:8080/",
     "height": 119
    },
    "colab_type": "code",
    "id": "o_Y9Q9QowRZz",
    "outputId": "9ef12bee-dda2-4028-9040-eacf0eb7946c"
   },
   "outputs": [
    {
     "data": {
      "text/plain": [
       "Classifier(\n",
       "  (fc1): Linear(in_features=784, out_features=256, bias=True)\n",
       "  (fc2): Linear(in_features=256, out_features=128, bias=True)\n",
       "  (fc3): Linear(in_features=128, out_features=64, bias=True)\n",
       "  (fc4): Linear(in_features=64, out_features=10, bias=True)\n",
       ")"
      ]
     },
     "execution_count": 43,
     "metadata": {
      "tags": []
     },
     "output_type": "execute_result"
    }
   ],
   "source": [
    "model"
   ]
  },
  {
   "cell_type": "code",
   "execution_count": 0,
   "metadata": {
    "colab": {
     "base_uri": "https://localhost:8080/",
     "height": 527
    },
    "colab_type": "code",
    "id": "-C464y3PPzO_",
    "outputId": "7c4006c5-c4fa-4e7f-a840-de801f4a2d98"
   },
   "outputs": [
    {
     "name": "stdout",
     "output_type": "stream",
     "text": [
      "Epoch: 1/30  Training Loss: 1.181  Test Loss: 0.975  Test Accuracy: 0.704\n",
      "Epoch: 2/30  Training Loss: 0.827  Test Loss: 0.926  Test Accuracy: 0.719\n",
      "Epoch: 3/30  Training Loss: 0.731  Test Loss: 0.814  Test Accuracy: 0.762\n",
      "Epoch: 4/30  Training Loss: 0.677  Test Loss: 0.807  Test Accuracy: 0.760\n",
      "Epoch: 5/30  Training Loss: 0.636  Test Loss: 0.805  Test Accuracy: 0.762\n",
      "Epoch: 6/30  Training Loss: 0.613  Test Loss: 0.770  Test Accuracy: 0.771\n",
      "Epoch: 7/30  Training Loss: 0.581  Test Loss: 0.752  Test Accuracy: 0.783\n",
      "Epoch: 8/30  Training Loss: 0.568  Test Loss: 0.765  Test Accuracy: 0.783\n",
      "Epoch: 9/30  Training Loss: 0.550  Test Loss: 0.746  Test Accuracy: 0.786\n",
      "Epoch: 10/30  Training Loss: 0.532  Test Loss: 0.788  Test Accuracy: 0.781\n",
      "Epoch: 11/30  Training Loss: 0.522  Test Loss: 0.792  Test Accuracy: 0.776\n",
      "Epoch: 12/30  Training Loss: 0.509  Test Loss: 0.734  Test Accuracy: 0.800\n",
      "Epoch: 13/30  Training Loss: 0.496  Test Loss: 0.716  Test Accuracy: 0.800\n",
      "Epoch: 14/30  Training Loss: 0.489  Test Loss: 0.783  Test Accuracy: 0.780\n",
      "Epoch: 15/30  Training Loss: 0.480  Test Loss: 0.789  Test Accuracy: 0.787\n",
      "Epoch: 16/30  Training Loss: 0.469  Test Loss: 0.714  Test Accuracy: 0.810\n",
      "Epoch: 17/30  Training Loss: 0.466  Test Loss: 0.697  Test Accuracy: 0.809\n",
      "Epoch: 18/30  Training Loss: 0.453  Test Loss: 0.712  Test Accuracy: 0.799\n",
      "Epoch: 19/30  Training Loss: 0.453  Test Loss: 0.746  Test Accuracy: 0.805\n",
      "Epoch: 20/30  Training Loss: 0.439  Test Loss: 0.704  Test Accuracy: 0.816\n",
      "Epoch: 21/30  Training Loss: 0.439  Test Loss: 0.709  Test Accuracy: 0.810\n",
      "Epoch: 22/30  Training Loss: 0.431  Test Loss: 0.747  Test Accuracy: 0.807\n",
      "Epoch: 23/30  Training Loss: 0.425  Test Loss: 0.731  Test Accuracy: 0.805\n",
      "Epoch: 24/30  Training Loss: 0.424  Test Loss: 0.697  Test Accuracy: 0.823\n",
      "Epoch: 25/30  Training Loss: 0.416  Test Loss: 0.801  Test Accuracy: 0.792\n",
      "Epoch: 26/30  Training Loss: 0.405  Test Loss: 0.707  Test Accuracy: 0.818\n",
      "Epoch: 27/30  Training Loss: 0.405  Test Loss: 0.759  Test Accuracy: 0.810\n",
      "Epoch: 28/30  Training Loss: 0.402  Test Loss: 0.826  Test Accuracy: 0.799\n",
      "Epoch: 29/30  Training Loss: 0.394  Test Loss: 0.733  Test Accuracy: 0.809\n",
      "Epoch: 30/30  Training Loss: 0.397  Test Loss: 0.747  Test Accuracy: 0.813\n"
     ]
    }
   ],
   "source": [
    "epochs = 30\n",
    "all_train_loss=[]\n",
    "all_test_loss=[]\n",
    "\n",
    "for e in range(epochs):\n",
    "    train_loss = 0\n",
    "    test_loss = 0\n",
    "    accuracy = 0\n",
    "\n",
    "    for images, labels in dataloader_train:\n",
    "\n",
    "      images=images.to(device)\n",
    "      labels=labels.to(device)\n",
    "      log_ps = model(images)\n",
    "      loss = criterion(log_ps, labels)\n",
    "        \n",
    "      optimizer.zero_grad()\n",
    "      loss.backward()\n",
    "      optimizer.step()\n",
    "        \n",
    "      train_loss += loss.item()\n",
    "\n",
    "    else:\n",
    "      with torch.no_grad():\n",
    "        for img, labels in dataloader_test:\n",
    "          img=img.to(device)\n",
    "          labels=labels.to(device)\n",
    "          log_ps=model(img)\n",
    "          loss = criterion(log_ps, labels)\n",
    "          test_loss+= loss.item()\n",
    "          \n",
    "          ps = torch.exp(log_ps)\n",
    "          top_p, top_class = ps.topk(1, dim=1)\n",
    "\n",
    "\n",
    "          equals = top_class == labels.view(*top_class.shape)\n",
    "          accuracy += torch.mean(equals.type(torch.FloatTensor))\n",
    "\n",
    "      all_train_loss.append(train_loss/len(dataloader_train))\n",
    "      all_test_loss.append(test_loss/len(dataloader_test))\n",
    "\n",
    " \n",
    "      print(\"Epoch: {}/{} \".format(e+1, epochs),\n",
    "            \"Training Loss: {:.3f} \".format(train_loss/len(dataloader_train)),\n",
    "            \"Test Loss: {:.3f} \".format(test_loss/len(dataloader_test)),\n",
    "            \"Test Accuracy: {:.3f}\".format(accuracy/len(dataloader_test)))\n",
    "\n",
    "\n"
   ]
  },
  {
   "cell_type": "code",
   "execution_count": 0,
   "metadata": {
    "colab": {},
    "colab_type": "code",
    "id": "DQtEzWR0w9TC"
   },
   "outputs": [],
   "source": [
    "images, labels = next(iter(dataloader_test))\n",
    "images=images.to(device)\n",
    "img = images[7]\n",
    "\n",
    "ps = torch.exp(model(img))\n",
    "top_p, top_class = ps.topk(1, dim=1)"
   ]
  },
  {
   "cell_type": "code",
   "execution_count": 0,
   "metadata": {
    "colab": {
     "base_uri": "https://localhost:8080/",
     "height": 34
    },
    "colab_type": "code",
    "id": "6mU174xl9872",
    "outputId": "a2bd17ff-b3a0-47f7-c876-f227d9f55f5a"
   },
   "outputs": [
    {
     "data": {
      "text/plain": [
       "tensor([[3]], device='cuda:0')"
      ]
     },
     "execution_count": 47,
     "metadata": {
      "tags": []
     },
     "output_type": "execute_result"
    }
   ],
   "source": [
    "top_class"
   ]
  },
  {
   "cell_type": "code",
   "execution_count": 0,
   "metadata": {
    "colab": {
     "base_uri": "https://localhost:8080/",
     "height": 34
    },
    "colab_type": "code",
    "id": "wGXakvb19-M7",
    "outputId": "4040716c-98b9-4707-8fd5-94ba37da3be5"
   },
   "outputs": [
    {
     "data": {
      "text/plain": [
       "tensor([[0.7465]], device='cuda:0', grad_fn=<TopkBackward>)"
      ]
     },
     "execution_count": 48,
     "metadata": {
      "tags": []
     },
     "output_type": "execute_result"
    }
   ],
   "source": [
    "top_p"
   ]
  },
  {
   "cell_type": "code",
   "execution_count": 0,
   "metadata": {
    "colab": {
     "base_uri": "https://localhost:8080/",
     "height": 51
    },
    "colab_type": "code",
    "id": "-RFZd2t1-QJi",
    "outputId": "1a99b0a1-5b8f-4f77-a5b8-68ed3c97b31d"
   },
   "outputs": [
    {
     "data": {
      "text/plain": [
       "tensor([[0.0090, 0.0026, 0.0296, 0.7465, 0.0118, 0.0548, 0.0245, 0.0050, 0.0904,\n",
       "         0.0258]], device='cuda:0', grad_fn=<ExpBackward>)"
      ]
     },
     "execution_count": 54,
     "metadata": {
      "tags": []
     },
     "output_type": "execute_result"
    }
   ],
   "source": [
    "ps"
   ]
  },
  {
   "cell_type": "code",
   "execution_count": 0,
   "metadata": {
    "colab": {
     "base_uri": "https://localhost:8080/",
     "height": 265
    },
    "colab_type": "code",
    "id": "SD9bNqme-AV1",
    "outputId": "fb2bde41-ea5c-448a-c619-3775e38adeb7"
   },
   "outputs": [
    {
     "data": {
      "image/png": "[encoded data removed]",
      "text/plain": [
       "<Figure size 432x288 with 1 Axes>"
      ]
     },
     "metadata": {
      "needs_background": "light",
      "tags": []
     },
     "output_type": "display_data"
    }
   ],
   "source": [
    "show(img.cpu().numpy().squeeze())"
   ]
  },
  {
   "cell_type": "code",
   "execution_count": 0,
   "metadata": {
    "colab": {
     "base_uri": "https://localhost:8080/",
     "height": 299
    },
    "colab_type": "code",
    "id": "YH6eKpRa-fPo",
    "outputId": "f7bd715a-ce89-4494-b403-dab211619a1a"
   },
   "outputs": [
    {
     "name": "stdout",
     "output_type": "stream",
     "text": [
      "tensor([[0.9997]], device='cuda:0', grad_fn=<TopkBackward>)\n",
      "tensor([[4]], device='cuda:0')\n"
     ]
    },
    {
     "data": {
      "image/png": "[encoded data removed]",
      "text/plain": [
       "<Figure size 432x288 with 1 Axes>"
      ]
     },
     "metadata": {
      "needs_background": "light",
      "tags": []
     },
     "output_type": "display_data"
    }
   ],
   "source": [
    "img = images[1]\n",
    "\n",
    "ps = torch.exp(model(img))\n",
    "top_p, top_class = ps.topk(1, dim=1)\n",
    "show(img.cpu().numpy().squeeze())\n",
    "print(top_p)\n",
    "print(top_class)"
   ]
  },
  {
   "cell_type": "code",
   "execution_count": 0,
   "metadata": {
    "colab": {
     "base_uri": "https://localhost:8080/",
     "height": 299
    },
    "colab_type": "code",
    "id": "8u9lAKFz-qQB",
    "outputId": "f95b92f9-fae3-4336-c1c0-a00a3c441a65"
   },
   "outputs": [
    {
     "name": "stdout",
     "output_type": "stream",
     "text": [
      "tensor([[0.9985]], device='cuda:0', grad_fn=<TopkBackward>)\n",
      "tensor([[2]], device='cuda:0')\n"
     ]
    },
    {
     "data": {
      "image/png": "[encoded data removed]",
      "text/plain": [
       "<Figure size 432x288 with 1 Axes>"
      ]
     },
     "metadata": {
      "needs_background": "light",
      "tags": []
     },
     "output_type": "display_data"
    }
   ],
   "source": [
    "img = images[2]\n",
    "\n",
    "ps = torch.exp(model(img))\n",
    "top_p, top_class = ps.topk(1, dim=1)\n",
    "show(img.cpu().numpy().squeeze())\n",
    "print(top_p)\n",
    "print(top_class)"
   ]
  },
  {
   "cell_type": "code",
   "execution_count": 0,
   "metadata": {
    "colab": {
     "base_uri": "https://localhost:8080/",
     "height": 282
    },
    "colab_type": "code",
    "id": "CPIKyR-X92rF",
    "outputId": "081332c5-15f2-45ba-fbb4-dbf990300e37"
   },
   "outputs": [
    {
     "data": {
      "text/plain": [
       "<matplotlib.legend.Legend at 0x7fe83b960940>"
      ]
     },
     "execution_count": 45,
     "metadata": {
      "tags": []
     },
     "output_type": "execute_result"
    },
    {
     "data": {
      "image/png": "[encoded data removed]",
      "text/plain": [
       "<Figure size 432x288 with 1 Axes>"
      ]
     },
     "metadata": {
      "needs_background": "light",
      "tags": []
     },
     "output_type": "display_data"
    }
   ],
   "source": [
    "plt.plot(all_train_loss, label=\"Train loss\")\n",
    "plt.plot(all_test_loss, label=\"Test loss\")\n",
    "plt.legend()"
   ]
  },
  {
   "cell_type": "markdown",
   "metadata": {
    "colab_type": "text",
    "id": "grN6C476ogWC"
   },
   "source": [
    "best result: Epoch: 24/30  Training Loss: 0.424  Test Loss: 0.697  Test Accuracy: 0.823"
   ]
  },
  {
   "cell_type": "markdown",
   "metadata": {
    "colab_type": "text",
    "id": "xedKcBIi3b7E"
   },
   "source": [
    "# CNN with different transform \n",
    "criterion = nn.NLLLoss()\n",
    "optimizer = optim.Adam(model.parameters(), lr=0.003)\n",
    "number of out_channels = 4\n",
    "\n",
    "Epoch: 22/30  Training Loss: 0.503  Test Loss: 0.634  Test Accuracy: 0.807"
   ]
  },
  {
   "cell_type": "code",
   "execution_count": 0,
   "metadata": {
    "colab": {
     "base_uri": "https://localhost:8080/",
     "height": 561
    },
    "colab_type": "code",
    "id": "WXvAZrpL_VjZ",
    "outputId": "5569a1dc-c762-45c3-b7ca-21b721dd6032"
   },
   "outputs": [
    {
     "name": "stdout",
     "output_type": "stream",
     "text": [
      "Using downloaded and verified file: http://ufldl.stanford.edu/housenumbers/train_32x32.mat\n",
      "Using downloaded and verified file: http://ufldl.stanford.edu/housenumbers/test_32x32.mat\n",
      "Epoch: 1/30  Training Loss: 1.511  Test Loss: 1.005  Test Accuracy: 0.682\n",
      "Epoch: 2/30  Training Loss: 0.845  Test Loss: 0.866  Test Accuracy: 0.731\n",
      "Epoch: 3/30  Training Loss: 0.736  Test Loss: 0.808  Test Accuracy: 0.750\n",
      "Epoch: 4/30  Training Loss: 0.690  Test Loss: 0.799  Test Accuracy: 0.750\n",
      "Epoch: 5/30  Training Loss: 0.663  Test Loss: 0.782  Test Accuracy: 0.756\n",
      "Epoch: 6/30  Training Loss: 0.636  Test Loss: 0.731  Test Accuracy: 0.773\n",
      "Epoch: 7/30  Training Loss: 0.616  Test Loss: 0.719  Test Accuracy: 0.780\n",
      "Epoch: 8/30  Training Loss: 0.602  Test Loss: 0.736  Test Accuracy: 0.775\n",
      "Epoch: 9/30  Training Loss: 0.585  Test Loss: 0.713  Test Accuracy: 0.777\n",
      "Epoch: 10/30  Training Loss: 0.571  Test Loss: 0.685  Test Accuracy: 0.791\n",
      "Epoch: 11/30  Training Loss: 0.563  Test Loss: 0.711  Test Accuracy: 0.778\n",
      "Epoch: 12/30  Training Loss: 0.552  Test Loss: 0.701  Test Accuracy: 0.785\n",
      "Epoch: 13/30  Training Loss: 0.545  Test Loss: 0.682  Test Accuracy: 0.792\n",
      "Epoch: 14/30  Training Loss: 0.537  Test Loss: 0.686  Test Accuracy: 0.790\n",
      "Epoch: 15/30  Training Loss: 0.536  Test Loss: 0.679  Test Accuracy: 0.794\n",
      "Epoch: 16/30  Training Loss: 0.529  Test Loss: 0.647  Test Accuracy: 0.806\n",
      "Epoch: 17/30  Training Loss: 0.524  Test Loss: 0.653  Test Accuracy: 0.802\n",
      "Epoch: 18/30  Training Loss: 0.521  Test Loss: 0.666  Test Accuracy: 0.797\n",
      "Epoch: 19/30  Training Loss: 0.511  Test Loss: 0.665  Test Accuracy: 0.801\n",
      "Epoch: 20/30  Training Loss: 0.510  Test Loss: 0.639  Test Accuracy: 0.804\n",
      "Epoch: 21/30  Training Loss: 0.508  Test Loss: 0.691  Test Accuracy: 0.786\n",
      "Epoch: 22/30  Training Loss: 0.503  Test Loss: 0.634  Test Accuracy: 0.807\n",
      "Epoch: 23/30  Training Loss: 0.499  Test Loss: 0.708  Test Accuracy: 0.786\n",
      "Epoch: 24/30  Training Loss: 0.496  Test Loss: 0.647  Test Accuracy: 0.806\n",
      "Epoch: 25/30  Training Loss: 0.493  Test Loss: 0.659  Test Accuracy: 0.805\n",
      "Epoch: 26/30  Training Loss: 0.487  Test Loss: 0.654  Test Accuracy: 0.800\n",
      "Epoch: 27/30  Training Loss: 0.486  Test Loss: 0.630  Test Accuracy: 0.810\n",
      "Epoch: 28/30  Training Loss: 0.485  Test Loss: 0.626  Test Accuracy: 0.809\n",
      "Epoch: 29/30  Training Loss: 0.484  Test Loss: 0.637  Test Accuracy: 0.808\n",
      "Epoch: 30/30  Training Loss: 0.480  Test Loss: 0.637  Test Accuracy: 0.809\n"
     ]
    }
   ],
   "source": [
    "\n",
    "root='http://ufldl.stanford.edu/housenumbers/'\n",
    "\n",
    "transform_one_channel = transforms.Compose([\n",
    "                               # transforms.ToPILImage(),\n",
    "                                transforms.CenterCrop((28, 28)),\n",
    "                                transforms.Grayscale(num_output_channels=1), \n",
    "                                transforms.RandomHorizontalFlip(),                             \n",
    "                                transforms.ToTensor(),\n",
    "                                transforms.Normalize([0.5,],[0.5,])\n",
    "                                ])\n",
    "\n",
    "\n",
    "transform_one_channel_test = transforms.Compose([\n",
    "                               # transforms.ToPILImage(),\n",
    "                                transforms.CenterCrop((28, 28)),\n",
    "                                transforms.Grayscale(num_output_channels=1),                              \n",
    "                                transforms.ToTensor(),\n",
    "                                transforms.Normalize([0.5,],[0.5,])\n",
    "                                ])\n",
    "\n",
    "train = torchvision.datasets.SVHN(root, split='train', transform=transform_one_channel, target_transform=None, download=True)\n",
    "\n",
    "dataloader_train = torch.utils.data.DataLoader(train, batch_size=64, shuffle=True)\n",
    "\n",
    "test = torchvision.datasets.SVHN(root, split='test', transform=transform_one_channel_test, target_transform=None, download=True)\n",
    "\n",
    "dataloader_test = torch.utils.data.DataLoader(test, batch_size=64, shuffle=True)\n",
    "\n",
    "images_train, labels_train = next(iter(dataloader_train))\n",
    "images_test, labels_test = next(iter(dataloader_test))\n",
    "\n",
    "#print(\"Shape of train inputs: \", images_train.shape, \"; Shape of train labels: \", labels_train.shape)\n",
    "#print(\"Shape of test inputs: \",images_test.shape, \"; Shape of test inputs: \", labels_test.shape)\n",
    "#print(\"Batch size = 64\")\n",
    "\n",
    "\n",
    "\n",
    "class ClassifierCNN(nn.Module):\n",
    "    def __init__(self):\n",
    "        super().__init__()\n",
    "        self.conv1=nn.Conv2d(1,4,2)\n",
    "        self.conv2=nn.Conv2d(4,8,2)\n",
    "        self.fc1 = nn.Linear(288, 128) \n",
    "        self.fc2 = nn.Linear(128, 64)\n",
    "        self.fc3 = nn.Linear(64, 10)\n",
    "        \n",
    "    def forward(self, x): \n",
    "        x = F.max_pool2d(F.relu(self.conv1(x)), (2,2))\n",
    "        x = F.max_pool2d(F.relu(self.conv2(x)), 2)\n",
    "        x = x.view(x.shape[0], -1)   \n",
    "        x = F.relu(self.fc1(x))\n",
    "        x = F.relu(self.fc2(x))\n",
    "        x = F.log_softmax(self.fc3(x), dim=1)\n",
    "\n",
    "        return x\n",
    "\n",
    "\n",
    "\n",
    "model = ClassifierCNN()\n",
    "device = torch.device(\"cuda\" if torch.cuda.is_available() else \"cpu\")\n",
    "model=model.to(device)\n",
    "\n",
    "\n",
    "criterion = nn.NLLLoss()\n",
    "optimizer = optim.Adam(model.parameters(), lr=0.003)\n",
    "\n",
    "\n",
    "\n",
    "\n",
    "epochs = 30\n",
    "all_train_loss=[]\n",
    "all_test_loss=[]\n",
    "\n",
    "for e in range(epochs):\n",
    "    train_loss = 0\n",
    "    test_loss = 0\n",
    "    accuracy = 0\n",
    "\n",
    "    for images, labels in dataloader_train:\n",
    "\n",
    "      images=images.to(device)\n",
    "      labels=labels.to(device)\n",
    "      log_ps = model(images)\n",
    "      loss = criterion(log_ps, labels)\n",
    "        \n",
    "      optimizer.zero_grad()\n",
    "      loss.backward()\n",
    "      optimizer.step()\n",
    "        \n",
    "      train_loss += loss.item()\n",
    "\n",
    "    else:\n",
    "      with torch.no_grad():\n",
    "        for img, labels in dataloader_test:\n",
    "          model.eval()\n",
    "          img=img.to(device)\n",
    "          labels=labels.to(device)\n",
    "          log_ps=model(img)\n",
    "          loss = criterion(log_ps, labels)\n",
    "          test_loss+= loss.item()\n",
    "          \n",
    "          ps = torch.exp(log_ps)\n",
    "          top_p, top_class = ps.topk(1, dim=1)\n",
    "\n",
    "\n",
    "          equals = top_class == labels.view(*top_class.shape)\n",
    "          accuracy += torch.mean(equals.type(torch.FloatTensor))\n",
    "      model.train()\n",
    "      all_train_loss.append(train_loss/len(dataloader_train))\n",
    "      all_test_loss.append(test_loss/len(dataloader_test))\n",
    "\n",
    " \n",
    "      print(\"Epoch: {}/{} \".format(e+1, epochs),\n",
    "            \"Training Loss: {:.3f} \".format(train_loss/len(dataloader_train)),\n",
    "            \"Test Loss: {:.3f} \".format(test_loss/len(dataloader_test)),\n",
    "            \"Test Accuracy: {:.3f}\".format(accuracy/len(dataloader_test)))\n",
    "\n",
    "\n"
   ]
  },
  {
   "cell_type": "code",
   "execution_count": 0,
   "metadata": {
    "colab": {
     "base_uri": "https://localhost:8080/",
     "height": 282
    },
    "colab_type": "code",
    "id": "cTQANquxBe8u",
    "outputId": "281de99b-24fe-4d48-fd2c-b3128db92873"
   },
   "outputs": [
    {
     "data": {
      "text/plain": [
       "<matplotlib.legend.Legend at 0x7fe83bac29e8>"
      ]
     },
     "execution_count": 59,
     "metadata": {
      "tags": []
     },
     "output_type": "execute_result"
    },
    {
     "data": {
      "image/png": "[encoded data removed]",
      "text/plain": [
       "<Figure size 432x288 with 1 Axes>"
      ]
     },
     "metadata": {
      "needs_background": "light",
      "tags": []
     },
     "output_type": "display_data"
    }
   ],
   "source": [
    "plt.plot(all_train_loss, label=\"Train loss\")\n",
    "plt.plot(all_test_loss, label=\"Test loss\")\n",
    "plt.legend()"
   ]
  },
  {
   "cell_type": "markdown",
   "metadata": {
    "colab_type": "text",
    "id": "UoxKeAvIOsgP"
   },
   "source": [
    "# CNN with different filter and output channel\n",
    "criterion = nn.NLLLoss()\n",
    "optimizer = optim.Adam(model.parameters(), lr=0.003)\n",
    "number of out_channels (filters) = 8\n",
    "\n",
    "Epoch: 16/30  Training Loss: 0.400  Test Loss: 0.528  Test Accuracy: 0.849"
   ]
  },
  {
   "cell_type": "code",
   "execution_count": 0,
   "metadata": {
    "colab": {
     "base_uri": "https://localhost:8080/",
     "height": 561
    },
    "colab_type": "code",
    "id": "lomtrrBo3-TE",
    "outputId": "07e0b477-a314-4093-cfa5-fbe529272825"
   },
   "outputs": [
    {
     "name": "stdout",
     "output_type": "stream",
     "text": [
      "Using downloaded and verified file: http://ufldl.stanford.edu/housenumbers/train_32x32.mat\n",
      "Using downloaded and verified file: http://ufldl.stanford.edu/housenumbers/test_32x32.mat\n",
      "Epoch: 1/30  Training Loss: 1.103  Test Loss: 0.773  Test Accuracy: 0.764\n",
      "Epoch: 2/30  Training Loss: 0.639  Test Loss: 0.667  Test Accuracy: 0.794\n",
      "Epoch: 3/30  Training Loss: 0.560  Test Loss: 0.662  Test Accuracy: 0.800\n",
      "Epoch: 4/30  Training Loss: 0.517  Test Loss: 0.638  Test Accuracy: 0.806\n",
      "Epoch: 5/30  Training Loss: 0.494  Test Loss: 0.602  Test Accuracy: 0.824\n",
      "Epoch: 6/30  Training Loss: 0.474  Test Loss: 0.600  Test Accuracy: 0.821\n",
      "Epoch: 7/30  Training Loss: 0.459  Test Loss: 0.562  Test Accuracy: 0.831\n",
      "Epoch: 8/30  Training Loss: 0.447  Test Loss: 0.592  Test Accuracy: 0.822\n",
      "Epoch: 9/30  Training Loss: 0.439  Test Loss: 0.534  Test Accuracy: 0.840\n",
      "Epoch: 10/30  Training Loss: 0.435  Test Loss: 0.587  Test Accuracy: 0.827\n",
      "Epoch: 11/30  Training Loss: 0.430  Test Loss: 0.532  Test Accuracy: 0.845\n",
      "Epoch: 12/30  Training Loss: 0.419  Test Loss: 0.546  Test Accuracy: 0.837\n",
      "Epoch: 13/30  Training Loss: 0.412  Test Loss: 0.532  Test Accuracy: 0.845\n",
      "Epoch: 14/30  Training Loss: 0.409  Test Loss: 0.561  Test Accuracy: 0.837\n",
      "Epoch: 15/30  Training Loss: 0.406  Test Loss: 0.540  Test Accuracy: 0.843\n",
      "Epoch: 16/30  Training Loss: 0.400  Test Loss: 0.528  Test Accuracy: 0.849\n",
      "Epoch: 17/30  Training Loss: 0.398  Test Loss: 0.540  Test Accuracy: 0.842\n",
      "Epoch: 18/30  Training Loss: 0.394  Test Loss: 0.520  Test Accuracy: 0.850\n",
      "Epoch: 19/30  Training Loss: 0.389  Test Loss: 0.545  Test Accuracy: 0.841\n",
      "Epoch: 20/30  Training Loss: 0.391  Test Loss: 0.530  Test Accuracy: 0.845\n",
      "Epoch: 21/30  Training Loss: 0.385  Test Loss: 0.570  Test Accuracy: 0.837\n",
      "Epoch: 22/30  Training Loss: 0.389  Test Loss: 0.524  Test Accuracy: 0.847\n",
      "Epoch: 23/30  Training Loss: 0.382  Test Loss: 0.510  Test Accuracy: 0.850\n",
      "Epoch: 24/30  Training Loss: 0.378  Test Loss: 0.555  Test Accuracy: 0.838\n",
      "Epoch: 25/30  Training Loss: 0.379  Test Loss: 0.539  Test Accuracy: 0.846\n",
      "Epoch: 26/30  Training Loss: 0.376  Test Loss: 0.549  Test Accuracy: 0.843\n",
      "Epoch: 27/30  Training Loss: 0.378  Test Loss: 0.544  Test Accuracy: 0.842\n",
      "Epoch: 28/30  Training Loss: 0.371  Test Loss: 0.529  Test Accuracy: 0.847\n",
      "Epoch: 29/30  Training Loss: 0.372  Test Loss: 0.538  Test Accuracy: 0.846\n",
      "Epoch: 30/30  Training Loss: 0.370  Test Loss: 0.541  Test Accuracy: 0.844\n"
     ]
    }
   ],
   "source": [
    "\n",
    "root='http://ufldl.stanford.edu/housenumbers/'\n",
    "\n",
    "transform_one_channel = transforms.Compose([\n",
    "                               # transforms.ToPILImage(),\n",
    "                                transforms.CenterCrop((28, 28)),\n",
    "                                transforms.Grayscale(num_output_channels=1), \n",
    "                                transforms.RandomHorizontalFlip(),                             \n",
    "                                transforms.ToTensor(),\n",
    "                                transforms.Normalize([0.5,],[0.5,])\n",
    "                                ])\n",
    "\n",
    "\n",
    "transform_one_channel_test = transforms.Compose([\n",
    "                               # transforms.ToPILImage(),\n",
    "                                transforms.CenterCrop((28, 28)),\n",
    "                                transforms.Grayscale(num_output_channels=1),                              \n",
    "                                transforms.ToTensor(),\n",
    "                                transforms.Normalize([0.5,],[0.5,])\n",
    "                                ])\n",
    "\n",
    "train = torchvision.datasets.SVHN(root, split='train', transform=transform_one_channel, target_transform=None, download=True)\n",
    "\n",
    "dataloader_train = torch.utils.data.DataLoader(train, batch_size=64, shuffle=True)\n",
    "\n",
    "test = torchvision.datasets.SVHN(root, split='test', transform=transform_one_channel_test, target_transform=None, download=True)\n",
    "\n",
    "dataloader_test = torch.utils.data.DataLoader(test, batch_size=64, shuffle=True)\n",
    "\n",
    "images_train, labels_train = next(iter(dataloader_train))\n",
    "images_test, labels_test = next(iter(dataloader_test))\n",
    "\n",
    "#print(\"Shape of train inputs: \", images_train.shape, \"; Shape of train labels: \", labels_train.shape)\n",
    "#print(\"Shape of test inputs: \",images_test.shape, \"; Shape of test inputs: \", labels_test.shape)\n",
    "#print(\"Batch size = 64\")\n",
    "\n",
    "\n",
    "\n",
    "\n",
    "\n",
    "class ClassifierCNN(nn.Module):\n",
    "    def __init__(self):\n",
    "        super().__init__()\n",
    "        self.conv1=nn.Conv2d(1,8,5)\n",
    "        self.conv2=nn.Conv2d(8,16,5)\n",
    "        self.fc1 = nn.Linear(256, 128) \n",
    "        self.fc2 = nn.Linear(128, 64)\n",
    "        self.fc3 = nn.Linear(64, 10)\n",
    "        \n",
    "    def forward(self, x): \n",
    "        x = F.max_pool2d(F.relu(self.conv1(x)), (2,2))\n",
    "        x = F.max_pool2d(F.relu(self.conv2(x)), 2)\n",
    "        x = x.view(x.shape[0], -1)   \n",
    "        x = F.relu(self.fc1(x))\n",
    "        x = F.relu(self.fc2(x))\n",
    "        x = F.log_softmax(self.fc3(x), dim=1)\n",
    "\n",
    "        return x\n",
    "\n",
    "\n",
    "\n",
    "model = ClassifierCNN()\n",
    "device = torch.device(\"cuda\" if torch.cuda.is_available() else \"cpu\")\n",
    "model=model.to(device)\n",
    "\n",
    "\n",
    "criterion = nn.NLLLoss()\n",
    "optimizer = optim.Adam(model.parameters(), lr=0.003)\n",
    "\n",
    "\n",
    "\n",
    "\n",
    "epochs = 30\n",
    "all_train_loss=[]\n",
    "all_test_loss=[]\n",
    "\n",
    "for e in range(epochs):\n",
    "    train_loss = 0\n",
    "    test_loss = 0\n",
    "    accuracy = 0\n",
    "\n",
    "    for images, labels in dataloader_train:\n",
    "\n",
    "      images=images.to(device)\n",
    "      labels=labels.to(device)\n",
    "      log_ps = model(images)\n",
    "      loss = criterion(log_ps, labels)\n",
    "        \n",
    "      optimizer.zero_grad()\n",
    "      loss.backward()\n",
    "      optimizer.step()\n",
    "        \n",
    "      train_loss += loss.item()\n",
    "\n",
    "    else:\n",
    "      with torch.no_grad():\n",
    "        for img, labels in dataloader_test:\n",
    "          model.eval()\n",
    "          img=img.to(device)\n",
    "          labels=labels.to(device)\n",
    "          log_ps=model(img)\n",
    "          loss = criterion(log_ps, labels)\n",
    "          test_loss+= loss.item()\n",
    "          \n",
    "          ps = torch.exp(log_ps)\n",
    "          top_p, top_class = ps.topk(1, dim=1)\n",
    "\n",
    "\n",
    "          equals = top_class == labels.view(*top_class.shape)\n",
    "          accuracy += torch.mean(equals.type(torch.FloatTensor))\n",
    "      model.train()\n",
    "      all_train_loss.append(train_loss/len(dataloader_train))\n",
    "      all_test_loss.append(test_loss/len(dataloader_test))\n",
    "\n",
    " \n",
    "      print(\"Epoch: {}/{} \".format(e+1, epochs),\n",
    "            \"Training Loss: {:.3f} \".format(train_loss/len(dataloader_train)),\n",
    "            \"Test Loss: {:.3f} \".format(test_loss/len(dataloader_test)),\n",
    "            \"Test Accuracy: {:.3f}\".format(accuracy/len(dataloader_test)))\n",
    "\n",
    "\n"
   ]
  },
  {
   "cell_type": "code",
   "execution_count": 0,
   "metadata": {
    "colab": {
     "base_uri": "https://localhost:8080/",
     "height": 282
    },
    "colab_type": "code",
    "id": "yQ1RaHF0D8J4",
    "outputId": "42354b43-d293-4065-9a33-10e56badf10a"
   },
   "outputs": [
    {
     "data": {
      "text/plain": [
       "<matplotlib.legend.Legend at 0x7fe83bb3eac8>"
      ]
     },
     "execution_count": 61,
     "metadata": {
      "tags": []
     },
     "output_type": "execute_result"
    },
    {
     "data": {
      "image/png": "[encoded data removed]",
      "text/plain": [
       "<Figure size 432x288 with 1 Axes>"
      ]
     },
     "metadata": {
      "needs_background": "light",
      "tags": []
     },
     "output_type": "display_data"
    }
   ],
   "source": [
    "plt.plot(all_train_loss, label=\"Train loss\")\n",
    "plt.plot(all_test_loss, label=\"Test loss\")\n",
    "plt.legend()"
   ]
  },
  {
   "cell_type": "markdown",
   "metadata": {
    "colab_type": "text",
    "id": "6PH2ZHWkJdOE"
   },
   "source": [
    "# CNN with nn.CrossEntropyLoss()\n",
    "criterion = nn.CrossEntropyLoss()\n",
    "optimizer = optim.Adam(model.parameters(), lr=0.002)\n",
    "number of out_channels = 8\n"
   ]
  },
  {
   "cell_type": "code",
   "execution_count": 0,
   "metadata": {
    "colab": {
     "base_uri": "https://localhost:8080/",
     "height": 561
    },
    "colab_type": "code",
    "id": "m8UAkcOTGfZi",
    "outputId": "be251aac-7d28-4fa5-eeec-769e8b7d4dcf"
   },
   "outputs": [
    {
     "name": "stdout",
     "output_type": "stream",
     "text": [
      "Using downloaded and verified file: http://ufldl.stanford.edu/housenumbers/train_32x32.mat\n",
      "Using downloaded and verified file: http://ufldl.stanford.edu/housenumbers/test_32x32.mat\n",
      "Epoch: 1/30  Training Loss: 1.377  Test Loss: 0.989  Test Accuracy: 0.688\n",
      "Epoch: 2/30  Training Loss: 0.778  Test Loss: 0.773  Test Accuracy: 0.761\n",
      "Epoch: 3/30  Training Loss: 0.639  Test Loss: 0.696  Test Accuracy: 0.783\n",
      "Epoch: 4/30  Training Loss: 0.577  Test Loss: 0.620  Test Accuracy: 0.810\n",
      "Epoch: 5/30  Training Loss: 0.542  Test Loss: 0.638  Test Accuracy: 0.802\n",
      "Epoch: 6/30  Training Loss: 0.514  Test Loss: 0.590  Test Accuracy: 0.818\n",
      "Epoch: 7/30  Training Loss: 0.496  Test Loss: 0.582  Test Accuracy: 0.823\n",
      "Epoch: 8/30  Training Loss: 0.482  Test Loss: 0.580  Test Accuracy: 0.824\n",
      "Epoch: 9/30  Training Loss: 0.466  Test Loss: 0.536  Test Accuracy: 0.838\n",
      "Epoch: 10/30  Training Loss: 0.456  Test Loss: 0.534  Test Accuracy: 0.839\n",
      "Epoch: 11/30  Training Loss: 0.448  Test Loss: 0.550  Test Accuracy: 0.831\n",
      "Epoch: 12/30  Training Loss: 0.441  Test Loss: 0.533  Test Accuracy: 0.838\n",
      "Epoch: 13/30  Training Loss: 0.434  Test Loss: 0.517  Test Accuracy: 0.848\n",
      "Epoch: 14/30  Training Loss: 0.426  Test Loss: 0.543  Test Accuracy: 0.835\n",
      "Epoch: 15/30  Training Loss: 0.422  Test Loss: 0.534  Test Accuracy: 0.839\n",
      "Epoch: 16/30  Training Loss: 0.415  Test Loss: 0.501  Test Accuracy: 0.851\n",
      "Epoch: 17/30  Training Loss: 0.412  Test Loss: 0.519  Test Accuracy: 0.845\n",
      "Epoch: 18/30  Training Loss: 0.405  Test Loss: 0.514  Test Accuracy: 0.848\n",
      "Epoch: 19/30  Training Loss: 0.401  Test Loss: 0.503  Test Accuracy: 0.848\n",
      "Epoch: 20/30  Training Loss: 0.397  Test Loss: 0.509  Test Accuracy: 0.848\n",
      "Epoch: 21/30  Training Loss: 0.394  Test Loss: 0.491  Test Accuracy: 0.857\n",
      "Epoch: 22/30  Training Loss: 0.390  Test Loss: 0.527  Test Accuracy: 0.847\n",
      "Epoch: 23/30  Training Loss: 0.389  Test Loss: 0.515  Test Accuracy: 0.850\n",
      "Epoch: 24/30  Training Loss: 0.383  Test Loss: 0.507  Test Accuracy: 0.851\n",
      "Epoch: 25/30  Training Loss: 0.381  Test Loss: 0.503  Test Accuracy: 0.853\n",
      "Epoch: 26/30  Training Loss: 0.380  Test Loss: 0.504  Test Accuracy: 0.854\n",
      "Epoch: 27/30  Training Loss: 0.377  Test Loss: 0.496  Test Accuracy: 0.854\n",
      "Epoch: 28/30  Training Loss: 0.375  Test Loss: 0.512  Test Accuracy: 0.851\n",
      "Epoch: 29/30  Training Loss: 0.372  Test Loss: 0.512  Test Accuracy: 0.849\n",
      "Epoch: 30/30  Training Loss: 0.371  Test Loss: 0.502  Test Accuracy: 0.853\n"
     ]
    }
   ],
   "source": [
    "\n",
    "root='http://ufldl.stanford.edu/housenumbers/'\n",
    "\n",
    "transform_one_channel = transforms.Compose([\n",
    "                               # transforms.ToPILImage(),\n",
    "                                transforms.CenterCrop((28, 28)),\n",
    "                                transforms.Grayscale(num_output_channels=1), \n",
    "                                transforms.RandomHorizontalFlip(),                             \n",
    "                                transforms.ToTensor(),\n",
    "                                transforms.Normalize([0.5,],[0.5,])\n",
    "                                ])\n",
    "\n",
    "\n",
    "transform_one_channel_test = transforms.Compose([\n",
    "                               # transforms.ToPILImage(),\n",
    "                                transforms.CenterCrop((28, 28)),\n",
    "                                transforms.Grayscale(num_output_channels=1),                              \n",
    "                                transforms.ToTensor(),\n",
    "                                transforms.Normalize([0.5,],[0.5,])\n",
    "                                ])\n",
    "\n",
    "train = torchvision.datasets.SVHN(root, split='train', transform=transform_one_channel, target_transform=None, download=True)\n",
    "\n",
    "dataloader_train = torch.utils.data.DataLoader(train, batch_size=64, shuffle=True)\n",
    "\n",
    "test = torchvision.datasets.SVHN(root, split='test', transform=transform_one_channel_test, target_transform=None, download=True)\n",
    "\n",
    "dataloader_test = torch.utils.data.DataLoader(test, batch_size=64, shuffle=True)\n",
    "\n",
    "images_train, labels_train = next(iter(dataloader_train))\n",
    "images_test, labels_test = next(iter(dataloader_test))\n",
    "\n",
    "#print(\"Shape of train inputs: \", images_train.shape, \"; Shape of train labels: \", labels_train.shape)\n",
    "#print(\"Shape of test inputs: \",images_test.shape, \"; Shape of test inputs: \", labels_test.shape)\n",
    "#print(\"Batch size = 64\")\n",
    "\n",
    "\n",
    "\n",
    "\n",
    "\n",
    "class ClassifierCNN(nn.Module):\n",
    "    def __init__(self):\n",
    "        super().__init__()\n",
    "        self.conv1=nn.Conv2d(1,8,4)\n",
    "        self.conv2=nn.Conv2d(8,16,4)\n",
    "        self.fc1 = nn.Linear(256, 128) \n",
    "        self.fc2 = nn.Linear(128, 64)\n",
    "        self.fc3 = nn.Linear(64, 10)\n",
    "        \n",
    "    def forward(self, x): \n",
    "        x = F.max_pool2d(F.relu(self.conv1(x)), (2,2))\n",
    "        x = F.max_pool2d(F.relu(self.conv2(x)), 2)\n",
    "        x = x.view(x.shape[0], -1)   \n",
    "        x = F.relu(self.fc1(x))\n",
    "        x = F.relu(self.fc2(x))\n",
    "        x = self.fc3(x)\n",
    "\n",
    "        return x\n",
    "\n",
    "\n",
    "\n",
    "model = ClassifierCNN()\n",
    "device = torch.device(\"cuda\" if torch.cuda.is_available() else \"cpu\")\n",
    "model=model.to(device)\n",
    "\n",
    "\n",
    "criterion = nn.CrossEntropyLoss()\n",
    "optimizer = optim.Adam(model.parameters(), lr=0.002)\n",
    "\n",
    "\n",
    "\n",
    "\n",
    "epochs = 30\n",
    "all_train_loss=[]\n",
    "all_test_loss=[]\n",
    "\n",
    "for e in range(epochs):\n",
    "    train_loss = 0\n",
    "    test_loss = 0\n",
    "    accuracy = 0\n",
    "\n",
    "    for images, labels in dataloader_train:\n",
    "\n",
    "      images=images.to(device)\n",
    "      labels=labels.to(device)\n",
    "      log_ps = model(images)\n",
    "      loss = criterion(log_ps, labels)\n",
    "        \n",
    "      optimizer.zero_grad()\n",
    "      loss.backward()\n",
    "      optimizer.step()\n",
    "        \n",
    "      train_loss += loss.item()\n",
    "\n",
    "    else:\n",
    "      with torch.no_grad():\n",
    "        for img, labels in dataloader_test:\n",
    "          model.eval()\n",
    "          img=img.to(device)\n",
    "          labels=labels.to(device)\n",
    "          log_ps=model(img)\n",
    "          loss = criterion(log_ps, labels)\n",
    "          test_loss+= loss.item()\n",
    "          \n",
    "          ps = torch.exp(log_ps)\n",
    "          top_p, top_class = ps.topk(1, dim=1)\n",
    "\n",
    "\n",
    "          equals = top_class == labels.view(*top_class.shape)\n",
    "          accuracy += torch.mean(equals.type(torch.FloatTensor))\n",
    "      model.train()\n",
    "      all_train_loss.append(train_loss/len(dataloader_train))\n",
    "      all_test_loss.append(test_loss/len(dataloader_test))\n",
    "\n",
    " \n",
    "      print(\"Epoch: {}/{} \".format(e+1, epochs),\n",
    "            \"Training Loss: {:.3f} \".format(train_loss/len(dataloader_train)),\n",
    "            \"Test Loss: {:.3f} \".format(test_loss/len(dataloader_test)),\n",
    "            \"Test Accuracy: {:.3f}\".format(accuracy/len(dataloader_test)))\n",
    "\n",
    "\n"
   ]
  },
  {
   "cell_type": "code",
   "execution_count": 0,
   "metadata": {
    "colab": {
     "base_uri": "https://localhost:8080/",
     "height": 282
    },
    "colab_type": "code",
    "id": "VtFgO04dKg62",
    "outputId": "3094c314-30ff-43a2-db7c-fa3a90c38d42"
   },
   "outputs": [
    {
     "data": {
      "text/plain": [
       "<matplotlib.legend.Legend at 0x7fe88032eba8>"
      ]
     },
     "execution_count": 64,
     "metadata": {
      "tags": []
     },
     "output_type": "execute_result"
    },
    {
     "data": {
      "image/png": "[encoded data removed]",
      "text/plain": [
       "<Figure size 432x288 with 1 Axes>"
      ]
     },
     "metadata": {
      "needs_background": "light",
      "tags": []
     },
     "output_type": "display_data"
    }
   ],
   "source": [
    "plt.plot(all_train_loss, label=\"Train loss\")\n",
    "plt.plot(all_test_loss, label=\"Test loss\")\n",
    "plt.legend()"
   ]
  },
  {
   "cell_type": "markdown",
   "metadata": {
    "colab_type": "text",
    "id": "AEsBzjMkmEBe"
   },
   "source": [
    "best result: Epoch: 21/30  Training Loss: 0.394  Test Loss: 0.491  Test Accuracy: 0.857"
   ]
  },
  {
   "cell_type": "markdown",
   "metadata": {
    "colab_type": "text",
    "id": "aT9hbQD-M1UB"
   },
   "source": [
    "# Another test CNN\n",
    "criterion = nn.CrossEntropyLoss()\n",
    "optimizer = optim.Adam(model.parameters(), lr=0.005),\n",
    "kernel size 4\n",
    "\n",
    "best result: Epoch: 29/30  Training Loss: 0.493  Test Loss: 0.578  Test Accuracy: 0.832"
   ]
  },
  {
   "cell_type": "code",
   "execution_count": 0,
   "metadata": {
    "colab": {
     "base_uri": "https://localhost:8080/",
     "height": 561
    },
    "colab_type": "code",
    "id": "weiRFtLeMz0F",
    "outputId": "1e415c13-893b-4618-b0ef-c54d881a4160"
   },
   "outputs": [
    {
     "name": "stdout",
     "output_type": "stream",
     "text": [
      "Using downloaded and verified file: http://ufldl.stanford.edu/housenumbers/train_32x32.mat\n",
      "Using downloaded and verified file: http://ufldl.stanford.edu/housenumbers/test_32x32.mat\n",
      "Epoch: 1/30  Training Loss: 1.171  Test Loss: 0.855  Test Accuracy: 0.738\n",
      "Epoch: 2/30  Training Loss: 0.738  Test Loss: 0.751  Test Accuracy: 0.768\n",
      "Epoch: 3/30  Training Loss: 0.672  Test Loss: 0.777  Test Accuracy: 0.760\n",
      "Epoch: 4/30  Training Loss: 0.640  Test Loss: 0.678  Test Accuracy: 0.791\n",
      "Epoch: 5/30  Training Loss: 0.616  Test Loss: 0.662  Test Accuracy: 0.799\n",
      "Epoch: 6/30  Training Loss: 0.598  Test Loss: 0.740  Test Accuracy: 0.773\n",
      "Epoch: 7/30  Training Loss: 0.579  Test Loss: 0.668  Test Accuracy: 0.796\n",
      "Epoch: 8/30  Training Loss: 0.565  Test Loss: 0.631  Test Accuracy: 0.809\n",
      "Epoch: 9/30  Training Loss: 0.558  Test Loss: 0.687  Test Accuracy: 0.789\n",
      "Epoch: 10/30  Training Loss: 0.551  Test Loss: 0.672  Test Accuracy: 0.796\n",
      "Epoch: 11/30  Training Loss: 0.543  Test Loss: 0.668  Test Accuracy: 0.797\n",
      "Epoch: 12/30  Training Loss: 0.536  Test Loss: 0.601  Test Accuracy: 0.822\n",
      "Epoch: 13/30  Training Loss: 0.534  Test Loss: 0.625  Test Accuracy: 0.814\n",
      "Epoch: 14/30  Training Loss: 0.530  Test Loss: 0.609  Test Accuracy: 0.816\n",
      "Epoch: 15/30  Training Loss: 0.521  Test Loss: 0.617  Test Accuracy: 0.816\n",
      "Epoch: 16/30  Training Loss: 0.525  Test Loss: 0.612  Test Accuracy: 0.819\n",
      "Epoch: 17/30  Training Loss: 0.517  Test Loss: 0.636  Test Accuracy: 0.810\n",
      "Epoch: 18/30  Training Loss: 0.516  Test Loss: 0.604  Test Accuracy: 0.819\n",
      "Epoch: 19/30  Training Loss: 0.507  Test Loss: 0.603  Test Accuracy: 0.823\n",
      "Epoch: 20/30  Training Loss: 0.508  Test Loss: 0.614  Test Accuracy: 0.820\n",
      "Epoch: 21/30  Training Loss: 0.507  Test Loss: 0.632  Test Accuracy: 0.813\n",
      "Epoch: 22/30  Training Loss: 0.504  Test Loss: 0.623  Test Accuracy: 0.817\n",
      "Epoch: 23/30  Training Loss: 0.504  Test Loss: 0.630  Test Accuracy: 0.814\n",
      "Epoch: 24/30  Training Loss: 0.503  Test Loss: 0.597  Test Accuracy: 0.825\n",
      "Epoch: 25/30  Training Loss: 0.500  Test Loss: 0.667  Test Accuracy: 0.801\n",
      "Epoch: 26/30  Training Loss: 0.503  Test Loss: 0.626  Test Accuracy: 0.819\n",
      "Epoch: 27/30  Training Loss: 0.498  Test Loss: 0.617  Test Accuracy: 0.820\n",
      "Epoch: 28/30  Training Loss: 0.497  Test Loss: 0.631  Test Accuracy: 0.810\n",
      "Epoch: 29/30  Training Loss: 0.493  Test Loss: 0.578  Test Accuracy: 0.832\n",
      "Epoch: 30/30  Training Loss: 0.489  Test Loss: 0.648  Test Accuracy: 0.810\n"
     ]
    }
   ],
   "source": [
    "\n",
    "root='http://ufldl.stanford.edu/housenumbers/'\n",
    "\n",
    "transform_one_channel = transforms.Compose([\n",
    "                               # transforms.ToPILImage(),\n",
    "                                transforms.CenterCrop((28, 28)),\n",
    "                                transforms.Grayscale(num_output_channels=1), \n",
    "                                transforms.RandomHorizontalFlip(),                             \n",
    "                                transforms.ToTensor(),\n",
    "                                transforms.Normalize([0.5,],[0.5,])\n",
    "                                ])\n",
    "\n",
    "\n",
    "transform_one_channel_test = transforms.Compose([\n",
    "                               # transforms.ToPILImage(),\n",
    "                                transforms.CenterCrop((28, 28)),\n",
    "                                transforms.Grayscale(num_output_channels=1),                              \n",
    "                                transforms.ToTensor(),\n",
    "                                transforms.Normalize([0.5,],[0.5,])\n",
    "                                ])\n",
    "\n",
    "train = torchvision.datasets.SVHN(root, split='train', transform=transform_one_channel, target_transform=None, download=True)\n",
    "\n",
    "dataloader_train = torch.utils.data.DataLoader(train, batch_size=64, shuffle=True)\n",
    "\n",
    "test = torchvision.datasets.SVHN(root, split='test', transform=transform_one_channel_test, target_transform=None, download=True)\n",
    "\n",
    "dataloader_test = torch.utils.data.DataLoader(test, batch_size=64, shuffle=True)\n",
    "\n",
    "images_train, labels_train = next(iter(dataloader_train))\n",
    "images_test, labels_test = next(iter(dataloader_test))\n",
    "\n",
    "#print(\"Shape of train inputs: \", images_train.shape, \"; Shape of train labels: \", labels_train.shape)\n",
    "#print(\"Shape of test inputs: \",images_test.shape, \"; Shape of test inputs: \", labels_test.shape)\n",
    "#print(\"Batch size = 64\")\n",
    "\n",
    "\n",
    "\n",
    "\n",
    "\n",
    "class ClassifierCNN(nn.Module):\n",
    "    def __init__(self):\n",
    "        super().__init__()\n",
    "        self.conv1=nn.Conv2d(1,8,4)\n",
    "        self.conv2=nn.Conv2d(8,16,4)\n",
    "        self.fc1 = nn.Linear(256, 128) \n",
    "        self.fc2 = nn.Linear(128, 64)\n",
    "        self.fc3 = nn.Linear(64, 10)\n",
    "        \n",
    "    def forward(self, x): \n",
    "        x = F.max_pool2d(F.relu(self.conv1(x)), (2,2))\n",
    "        x = F.max_pool2d(F.relu(self.conv2(x)), 2)\n",
    "        x = x.view(x.shape[0], -1)   \n",
    "        x = F.relu(self.fc1(x))\n",
    "        x = F.relu(self.fc2(x))\n",
    "        x = self.fc3(x)\n",
    "\n",
    "        return x\n",
    "\n",
    "\n",
    "\n",
    "model = ClassifierCNN()\n",
    "device = torch.device(\"cuda\" if torch.cuda.is_available() else \"cpu\")\n",
    "model=model.to(device)\n",
    "\n",
    "\n",
    "criterion = nn.CrossEntropyLoss()\n",
    "optimizer = optim.Adam(model.parameters(), lr=0.005)\n",
    "\n",
    "\n",
    "\n",
    "\n",
    "epochs = 30\n",
    "all_train_loss=[]\n",
    "all_test_loss=[]\n",
    "\n",
    "for e in range(epochs):\n",
    "    train_loss = 0\n",
    "    test_loss = 0\n",
    "    accuracy = 0\n",
    "\n",
    "    for images, labels in dataloader_train:\n",
    "\n",
    "      images=images.to(device)\n",
    "      labels=labels.to(device)\n",
    "      log_ps = model(images)\n",
    "      loss = criterion(log_ps, labels)\n",
    "        \n",
    "      optimizer.zero_grad()\n",
    "      loss.backward()\n",
    "      optimizer.step()\n",
    "        \n",
    "      train_loss += loss.item()\n",
    "\n",
    "    else:\n",
    "      with torch.no_grad():\n",
    "        for img, labels in dataloader_test:\n",
    "          model.eval()\n",
    "          img=img.to(device)\n",
    "          labels=labels.to(device)\n",
    "          log_ps=model(img)\n",
    "          loss = criterion(log_ps, labels)\n",
    "          test_loss+= loss.item()\n",
    "          \n",
    "          ps = torch.exp(log_ps)\n",
    "          top_p, top_class = ps.topk(1, dim=1)\n",
    "\n",
    "\n",
    "          equals = top_class == labels.view(*top_class.shape)\n",
    "          accuracy += torch.mean(equals.type(torch.FloatTensor))\n",
    "      model.train()\n",
    "      all_train_loss.append(train_loss/len(dataloader_train))\n",
    "      all_test_loss.append(test_loss/len(dataloader_test))\n",
    "\n",
    " \n",
    "      print(\"Epoch: {}/{} \".format(e+1, epochs),\n",
    "            \"Training Loss: {:.3f} \".format(train_loss/len(dataloader_train)),\n",
    "            \"Test Loss: {:.3f} \".format(test_loss/len(dataloader_test)),\n",
    "            \"Test Accuracy: {:.3f}\".format(accuracy/len(dataloader_test)))\n",
    "\n",
    "\n"
   ]
  },
  {
   "cell_type": "code",
   "execution_count": 0,
   "metadata": {
    "colab": {
     "base_uri": "https://localhost:8080/",
     "height": 285
    },
    "colab_type": "code",
    "id": "qqKuvu9xT8Ti",
    "outputId": "9fcd255d-32f1-4c00-9749-3428aa205936"
   },
   "outputs": [
    {
     "data": {
      "text/plain": [
       "<matplotlib.legend.Legend at 0x7fe88032e048>"
      ]
     },
     "execution_count": 68,
     "metadata": {
      "tags": []
     },
     "output_type": "execute_result"
    },
    {
     "data": {
      "image/png": "[encoded data removed]",
      "text/plain": [
       "<Figure size 432x288 with 1 Axes>"
      ]
     },
     "metadata": {
      "needs_background": "light",
      "tags": []
     },
     "output_type": "display_data"
    }
   ],
   "source": [
    "plt.plot(all_train_loss, label=\"Train loss\")\n",
    "plt.plot(all_test_loss, label=\"Test loss\")\n",
    "plt.legend()"
   ]
  },
  {
   "cell_type": "markdown",
   "metadata": {
    "colab_type": "text",
    "id": "tUAjmhgIilF5"
   },
   "source": [
    "# CNN\n",
    "criterion = nn.CrossEntropyLoss()\n",
    "optimizer = optim.Adam(model.parameters(), lr=0.002)\n",
    "out_channels = 8\n",
    "\n",
    "best results: Epoch: 20/30 Training Loss: 0.372 Test Loss: 0.491 Test Accuracy: 0.856"
   ]
  },
  {
   "cell_type": "code",
   "execution_count": 0,
   "metadata": {
    "colab": {
     "base_uri": "https://localhost:8080/",
     "height": 561
    },
    "colab_type": "code",
    "id": "BwgqXGtNUBgL",
    "outputId": "0b398f37-8a76-47a2-b04c-205d0f828486"
   },
   "outputs": [
    {
     "name": "stdout",
     "output_type": "stream",
     "text": [
      "Using downloaded and verified file: http://ufldl.stanford.edu/housenumbers/train_32x32.mat\n",
      "Using downloaded and verified file: http://ufldl.stanford.edu/housenumbers/test_32x32.mat\n",
      "Epoch: 1/30  Training Loss: 1.051  Test Loss: 0.801  Test Accuracy: 0.748\n",
      "Epoch: 2/30  Training Loss: 0.630  Test Loss: 0.669  Test Accuracy: 0.794\n",
      "Epoch: 3/30  Training Loss: 0.554  Test Loss: 0.605  Test Accuracy: 0.817\n",
      "Epoch: 4/30  Training Loss: 0.518  Test Loss: 0.597  Test Accuracy: 0.816\n",
      "Epoch: 5/30  Training Loss: 0.488  Test Loss: 0.581  Test Accuracy: 0.822\n",
      "Epoch: 6/30  Training Loss: 0.473  Test Loss: 0.541  Test Accuracy: 0.834\n",
      "Epoch: 7/30  Training Loss: 0.454  Test Loss: 0.546  Test Accuracy: 0.832\n",
      "Epoch: 8/30  Training Loss: 0.439  Test Loss: 0.548  Test Accuracy: 0.831\n",
      "Epoch: 9/30  Training Loss: 0.433  Test Loss: 0.523  Test Accuracy: 0.843\n",
      "Epoch: 10/30  Training Loss: 0.424  Test Loss: 0.508  Test Accuracy: 0.849\n",
      "Epoch: 11/30  Training Loss: 0.415  Test Loss: 0.542  Test Accuracy: 0.840\n",
      "Epoch: 12/30  Training Loss: 0.412  Test Loss: 0.519  Test Accuracy: 0.844\n",
      "Epoch: 13/30  Training Loss: 0.402  Test Loss: 0.537  Test Accuracy: 0.841\n",
      "Epoch: 14/30  Training Loss: 0.398  Test Loss: 0.525  Test Accuracy: 0.848\n",
      "Epoch: 15/30  Training Loss: 0.393  Test Loss: 0.548  Test Accuracy: 0.839\n",
      "Epoch: 16/30  Training Loss: 0.394  Test Loss: 0.527  Test Accuracy: 0.844\n",
      "Epoch: 17/30  Training Loss: 0.382  Test Loss: 0.499  Test Accuracy: 0.852\n",
      "Epoch: 18/30  Training Loss: 0.378  Test Loss: 0.524  Test Accuracy: 0.844\n",
      "Epoch: 19/30  Training Loss: 0.373  Test Loss: 0.521  Test Accuracy: 0.848\n",
      "Epoch: 20/30  Training Loss: 0.372  Test Loss: 0.491  Test Accuracy: 0.856\n",
      "Epoch: 21/30  Training Loss: 0.368  Test Loss: 0.505  Test Accuracy: 0.852\n",
      "Epoch: 22/30  Training Loss: 0.365  Test Loss: 0.526  Test Accuracy: 0.848\n",
      "Epoch: 23/30  Training Loss: 0.361  Test Loss: 0.501  Test Accuracy: 0.856\n",
      "Epoch: 24/30  Training Loss: 0.358  Test Loss: 0.495  Test Accuracy: 0.858\n",
      "Epoch: 25/30  Training Loss: 0.360  Test Loss: 0.503  Test Accuracy: 0.854\n",
      "Epoch: 26/30  Training Loss: 0.356  Test Loss: 0.511  Test Accuracy: 0.851\n",
      "Epoch: 27/30  Training Loss: 0.353  Test Loss: 0.532  Test Accuracy: 0.849\n",
      "Epoch: 28/30  Training Loss: 0.349  Test Loss: 0.508  Test Accuracy: 0.857\n",
      "Epoch: 29/30  Training Loss: 0.347  Test Loss: 0.532  Test Accuracy: 0.848\n",
      "Epoch: 30/30  Training Loss: 0.346  Test Loss: 0.542  Test Accuracy: 0.844\n"
     ]
    }
   ],
   "source": [
    "\n",
    "root='http://ufldl.stanford.edu/housenumbers/'\n",
    "\n",
    "transform_one_channel = transforms.Compose([\n",
    "                               # transforms.ToPILImage(),\n",
    "                                transforms.CenterCrop((28, 28)),\n",
    "                                transforms.Grayscale(num_output_channels=1), \n",
    "                                transforms.RandomHorizontalFlip(),                             \n",
    "                                transforms.ToTensor(),\n",
    "                                transforms.Normalize([0.5,],[0.5,])\n",
    "                                ])\n",
    "\n",
    "\n",
    "transform_one_channel_test = transforms.Compose([\n",
    "                               # transforms.ToPILImage(),\n",
    "                                transforms.CenterCrop((28, 28)),\n",
    "                                transforms.Grayscale(num_output_channels=1),                              \n",
    "                                transforms.ToTensor(),\n",
    "                                transforms.Normalize([0.5,],[0.5,])\n",
    "                                ])\n",
    "\n",
    "train = torchvision.datasets.SVHN(root, split='train', transform=transform_one_channel, target_transform=None, download=True)\n",
    "\n",
    "dataloader_train = torch.utils.data.DataLoader(train, batch_size=32, shuffle=True)\n",
    "\n",
    "test = torchvision.datasets.SVHN(root, split='test', transform=transform_one_channel_test, target_transform=None, download=True)\n",
    "\n",
    "dataloader_test = torch.utils.data.DataLoader(test, batch_size=32, shuffle=True)\n",
    "\n",
    "images_train, labels_train = next(iter(dataloader_train))\n",
    "images_test, labels_test = next(iter(dataloader_test))\n",
    "\n",
    "#print(\"Shape of train inputs: \", images_train.shape, \"; Shape of train labels: \", labels_train.shape)\n",
    "#print(\"Shape of test inputs: \",images_test.shape, \"; Shape of test inputs: \", labels_test.shape)\n",
    "#print(\"Batch size = 64\")\n",
    "\n",
    "\n",
    "\n",
    "\n",
    "\n",
    "class ClassifierCNN(nn.Module):\n",
    "    def __init__(self):\n",
    "        super().__init__()\n",
    "        self.conv1=nn.Conv2d(1,8,4)\n",
    "        self.conv2=nn.Conv2d(8,16,4)\n",
    "        self.fc1 = nn.Linear(256, 128) \n",
    "        self.fc2 = nn.Linear(128, 64)\n",
    "        self.fc3 = nn.Linear(64, 10)\n",
    "        \n",
    "    def forward(self, x): \n",
    "        x = F.max_pool2d(F.relu(self.conv1(x)), (2,2))\n",
    "        x = F.max_pool2d(F.relu(self.conv2(x)), 2)\n",
    "        x = x.view(x.shape[0], -1)   \n",
    "        x = F.relu(self.fc1(x))\n",
    "        x = F.relu(self.fc2(x))\n",
    "        x = self.fc3(x)\n",
    "\n",
    "        return x\n",
    "\n",
    "\n",
    "\n",
    "model = ClassifierCNN()\n",
    "device = torch.device(\"cuda\" if torch.cuda.is_available() else \"cpu\")\n",
    "model=model.to(device)\n",
    "\n",
    "\n",
    "criterion = nn.CrossEntropyLoss()\n",
    "optimizer = optim.Adam(model.parameters(), lr=0.002)\n",
    "\n",
    "\n",
    "\n",
    "\n",
    "epochs = 30\n",
    "all_train_loss=[]\n",
    "all_test_loss=[]\n",
    "\n",
    "for e in range(epochs):\n",
    "    train_loss = 0\n",
    "    test_loss = 0\n",
    "    accuracy = 0\n",
    "\n",
    "    for images, labels in dataloader_train:\n",
    "\n",
    "      images=images.to(device)\n",
    "      labels=labels.to(device)\n",
    "      log_ps = model(images)\n",
    "      loss = criterion(log_ps, labels)\n",
    "        \n",
    "      optimizer.zero_grad()\n",
    "      loss.backward()\n",
    "      optimizer.step()\n",
    "        \n",
    "      train_loss += loss.item()\n",
    "\n",
    "    else:\n",
    "      with torch.no_grad():\n",
    "        for img, labels in dataloader_test:\n",
    "          model.eval()\n",
    "          img=img.to(device)\n",
    "          labels=labels.to(device)\n",
    "          log_ps=model(img)\n",
    "          loss = criterion(log_ps, labels)\n",
    "          test_loss+= loss.item()\n",
    "          \n",
    "          ps = torch.exp(log_ps)\n",
    "          top_p, top_class = ps.topk(1, dim=1)\n",
    "\n",
    "\n",
    "          equals = top_class == labels.view(*top_class.shape)\n",
    "          accuracy += torch.mean(equals.type(torch.FloatTensor))\n",
    "      model.train()\n",
    "      all_train_loss.append(train_loss/len(dataloader_train))\n",
    "      all_test_loss.append(test_loss/len(dataloader_test))\n",
    "\n",
    " \n",
    "      print(\"Epoch: {}/{} \".format(e+1, epochs),\n",
    "            \"Training Loss: {:.3f} \".format(train_loss/len(dataloader_train)),\n",
    "            \"Test Loss: {:.3f} \".format(test_loss/len(dataloader_test)),\n",
    "            \"Test Accuracy: {:.3f}\".format(accuracy/len(dataloader_test)))\n",
    "\n",
    "\n"
   ]
  },
  {
   "cell_type": "code",
   "execution_count": 0,
   "metadata": {
    "colab": {
     "base_uri": "https://localhost:8080/",
     "height": 282
    },
    "colab_type": "code",
    "id": "ccV7B1OFXQAE",
    "outputId": "4e5c23e3-861a-43e4-9b68-09cc84dd4703"
   },
   "outputs": [
    {
     "data": {
      "text/plain": [
       "<matplotlib.legend.Legend at 0x7fe88032e710>"
      ]
     },
     "execution_count": 70,
     "metadata": {
      "tags": []
     },
     "output_type": "execute_result"
    },
    {
     "data": {
      "image/png": "[encoded data removed]",
      "text/plain": [
       "<Figure size 432x288 with 1 Axes>"
      ]
     },
     "metadata": {
      "needs_background": "light",
      "tags": []
     },
     "output_type": "display_data"
    }
   ],
   "source": [
    "plt.plot(all_train_loss, label=\"Train loss\")\n",
    "plt.plot(all_test_loss, label=\"Test loss\")\n",
    "plt.legend()"
   ]
  },
  {
   "cell_type": "markdown",
   "metadata": {
    "colab_type": "text",
    "id": "R-nwMPxJmMRG"
   },
   "source": [
    "Epoch: 20/30  Training Loss: 0.372  Test Loss: 0.491  Test Accuracy: 0.856"
   ]
  },
  {
   "cell_type": "markdown",
   "metadata": {
    "colab_type": "text",
    "id": "gs8QOqF7Z5u1"
   },
   "source": [
    "# CNN with batch 32,\n",
    "\n",
    "Epoch: 15/20  Training Loss: 0.426  Test Loss: 0.525  Test Accuracy: 0.846"
   ]
  },
  {
   "cell_type": "code",
   "execution_count": 0,
   "metadata": {
    "colab": {
     "base_uri": "https://localhost:8080/",
     "height": 391
    },
    "colab_type": "code",
    "id": "YyweFrSUXQIF",
    "outputId": "0d397b22-998a-4622-a4a0-616928748106"
   },
   "outputs": [
    {
     "name": "stdout",
     "output_type": "stream",
     "text": [
      "Using downloaded and verified file: http://ufldl.stanford.edu/housenumbers/train_32x32.mat\n",
      "Using downloaded and verified file: http://ufldl.stanford.edu/housenumbers/test_32x32.mat\n",
      "Epoch: 1/20  Training Loss: 1.092  Test Loss: 0.859  Test Accuracy: 0.729\n",
      "Epoch: 2/20  Training Loss: 0.685  Test Loss: 0.709  Test Accuracy: 0.786\n",
      "Epoch: 3/20  Training Loss: 0.590  Test Loss: 0.655  Test Accuracy: 0.802\n",
      "Epoch: 4/20  Training Loss: 0.545  Test Loss: 0.645  Test Accuracy: 0.803\n",
      "Epoch: 5/20  Training Loss: 0.517  Test Loss: 0.621  Test Accuracy: 0.811\n",
      "Epoch: 6/20  Training Loss: 0.496  Test Loss: 0.585  Test Accuracy: 0.824\n",
      "Epoch: 7/20  Training Loss: 0.483  Test Loss: 0.551  Test Accuracy: 0.836\n",
      "Epoch: 8/20  Training Loss: 0.469  Test Loss: 0.579  Test Accuracy: 0.827\n",
      "Epoch: 9/20  Training Loss: 0.462  Test Loss: 0.553  Test Accuracy: 0.836\n",
      "Epoch: 10/20  Training Loss: 0.452  Test Loss: 0.567  Test Accuracy: 0.831\n",
      "Epoch: 11/20  Training Loss: 0.444  Test Loss: 0.595  Test Accuracy: 0.824\n",
      "Epoch: 12/20  Training Loss: 0.438  Test Loss: 0.532  Test Accuracy: 0.844\n",
      "Epoch: 13/20  Training Loss: 0.431  Test Loss: 0.543  Test Accuracy: 0.839\n",
      "Epoch: 14/20  Training Loss: 0.426  Test Loss: 0.556  Test Accuracy: 0.841\n",
      "Epoch: 15/20  Training Loss: 0.426  Test Loss: 0.525  Test Accuracy: 0.846\n",
      "Epoch: 16/20  Training Loss: 0.419  Test Loss: 0.574  Test Accuracy: 0.832\n",
      "Epoch: 17/20  Training Loss: 0.415  Test Loss: 0.532  Test Accuracy: 0.844\n",
      "Epoch: 18/20  Training Loss: 0.410  Test Loss: 0.536  Test Accuracy: 0.843\n",
      "Epoch: 19/20  Training Loss: 0.405  Test Loss: 0.547  Test Accuracy: 0.844\n",
      "Epoch: 20/20  Training Loss: 0.406  Test Loss: 0.547  Test Accuracy: 0.841\n"
     ]
    }
   ],
   "source": [
    "\n",
    "root='http://ufldl.stanford.edu/housenumbers/'\n",
    "\n",
    "transform_one_channel = transforms.Compose([\n",
    "                               # transforms.ToPILImage(),\n",
    "                                transforms.CenterCrop((28, 28)),\n",
    "                                transforms.Grayscale(num_output_channels=1), \n",
    "                                transforms.RandomHorizontalFlip(),                             \n",
    "                                transforms.ToTensor(),\n",
    "                                transforms.Normalize([0.5,],[0.5,])\n",
    "                                ])\n",
    "\n",
    "\n",
    "transform_one_channel_test = transforms.Compose([\n",
    "                               # transforms.ToPILImage(),\n",
    "                                transforms.CenterCrop((28, 28)),\n",
    "                                transforms.Grayscale(num_output_channels=1),                              \n",
    "                                transforms.ToTensor(),\n",
    "                                transforms.Normalize([0.5,],[0.5,])\n",
    "                                ])\n",
    "\n",
    "train = torchvision.datasets.SVHN(root, split='train', transform=transform_one_channel, target_transform=None, download=True)\n",
    "\n",
    "dataloader_train = torch.utils.data.DataLoader(train, batch_size=32, shuffle=True)\n",
    "\n",
    "test = torchvision.datasets.SVHN(root, split='test', transform=transform_one_channel_test, target_transform=None, download=True)\n",
    "\n",
    "dataloader_test = torch.utils.data.DataLoader(test, batch_size=32, shuffle=True)\n",
    "\n",
    "images_train, labels_train = next(iter(dataloader_train))\n",
    "images_test, labels_test = next(iter(dataloader_test))\n",
    "\n",
    "#print(\"Shape of train inputs: \", images_train.shape, \"; Shape of train labels: \", labels_train.shape)\n",
    "#print(\"Shape of test inputs: \",images_test.shape, \"; Shape of test inputs: \", labels_test.shape)\n",
    "#print(\"Batch size = 64\")\n",
    "\n",
    "\n",
    "\n",
    "\n",
    "\n",
    "class ClassifierCNN(nn.Module):\n",
    "    def __init__(self):\n",
    "        super().__init__()\n",
    "        self.conv1=nn.Conv2d(1,8,5)\n",
    "        self.conv2=nn.Conv2d(8,16,5)\n",
    "        self.fc1 = nn.Linear(256, 128) \n",
    "        self.fc2 = nn.Linear(128, 64)\n",
    "        self.fc3 = nn.Linear(64, 10)\n",
    "        \n",
    "    def forward(self, x): \n",
    "        x = F.max_pool2d(F.relu(self.conv1(x)), (2,2))\n",
    "        x = F.max_pool2d(F.relu(self.conv2(x)), 2)\n",
    "        x = x.view(x.shape[0], -1)   \n",
    "        x = F.relu(self.fc1(x))\n",
    "        x = F.relu(self.fc2(x))\n",
    "        x = self.fc3(x)\n",
    "\n",
    "        return x\n",
    "\n",
    "\n",
    "\n",
    "model = ClassifierCNN()\n",
    "device = torch.device(\"cuda\" if torch.cuda.is_available() else \"cpu\")\n",
    "model=model.to(device)\n",
    "\n",
    "\n",
    "criterion = nn.CrossEntropyLoss()\n",
    "optimizer = optim.Adam(model.parameters(), lr=0.002)\n",
    "\n",
    "\n",
    "\n",
    "\n",
    "epochs = 20\n",
    "all_train_loss=[]\n",
    "all_test_loss=[]\n",
    "\n",
    "for e in range(epochs):\n",
    "    train_loss = 0\n",
    "    test_loss = 0\n",
    "    accuracy = 0\n",
    "\n",
    "    for images, labels in dataloader_train:\n",
    "\n",
    "      images=images.to(device)\n",
    "      labels=labels.to(device)\n",
    "      log_ps = model(images)\n",
    "      loss = criterion(log_ps, labels)\n",
    "        \n",
    "      optimizer.zero_grad()\n",
    "      loss.backward()\n",
    "      optimizer.step()\n",
    "        \n",
    "      train_loss += loss.item()\n",
    "\n",
    "    else:\n",
    "      with torch.no_grad():\n",
    "        for img, labels in dataloader_test:\n",
    "          model.eval()\n",
    "          img=img.to(device)\n",
    "          labels=labels.to(device)\n",
    "          log_ps=model(img)\n",
    "          loss = criterion(log_ps, labels)\n",
    "          test_loss+= loss.item()\n",
    "          \n",
    "          ps = torch.exp(log_ps)\n",
    "          top_p, top_class = ps.topk(1, dim=1)\n",
    "\n",
    "\n",
    "          equals = top_class == labels.view(*top_class.shape)\n",
    "          accuracy += torch.mean(equals.type(torch.FloatTensor))\n",
    "      model.train()\n",
    "      all_train_loss.append(train_loss/len(dataloader_train))\n",
    "      all_test_loss.append(test_loss/len(dataloader_test))\n",
    "\n",
    " \n",
    "      print(\"Epoch: {}/{} \".format(e+1, epochs),\n",
    "            \"Training Loss: {:.3f} \".format(train_loss/len(dataloader_train)),\n",
    "            \"Test Loss: {:.3f} \".format(test_loss/len(dataloader_test)),\n",
    "            \"Test Accuracy: {:.3f}\".format(accuracy/len(dataloader_test)))\n",
    "\n",
    "\n"
   ]
  },
  {
   "cell_type": "code",
   "execution_count": 0,
   "metadata": {
    "colab": {
     "base_uri": "https://localhost:8080/",
     "height": 282
    },
    "colab_type": "code",
    "id": "mPgDwCfdZ8vk",
    "outputId": "8c2f1237-69e7-4577-f2c2-8a6645b637fb"
   },
   "outputs": [
    {
     "data": {
      "text/plain": [
       "<matplotlib.legend.Legend at 0x7fe83b6c8828>"
      ]
     },
     "execution_count": 73,
     "metadata": {
      "tags": []
     },
     "output_type": "execute_result"
    },
    {
     "data": {
      "image/png": "[encoded data removed]",
      "text/plain": [
       "<Figure size 432x288 with 1 Axes>"
      ]
     },
     "metadata": {
      "needs_background": "light",
      "tags": []
     },
     "output_type": "display_data"
    }
   ],
   "source": [
    "plt.plot(all_train_loss, label=\"Train loss\")\n",
    "plt.plot(all_test_loss, label=\"Test loss\")\n",
    "plt.legend()"
   ]
  },
  {
   "cell_type": "markdown",
   "metadata": {
    "colab_type": "text",
    "id": "y7MOLjLJZ9B4"
   },
   "source": [
    "# CNN with batch 64\n",
    "\n",
    "Epoch: 16/20  Training Loss: 0.362  Test Loss: 0.499  Test Accuracy: 0.856"
   ]
  },
  {
   "cell_type": "code",
   "execution_count": 0,
   "metadata": {
    "colab": {
     "base_uri": "https://localhost:8080/",
     "height": 391
    },
    "colab_type": "code",
    "id": "5ufPivyJaCmS",
    "outputId": "23e3f70c-626c-4354-e7a0-52d6e4622a01"
   },
   "outputs": [
    {
     "name": "stdout",
     "output_type": "stream",
     "text": [
      "Using downloaded and verified file: http://ufldl.stanford.edu/housenumbers/train_32x32.mat\n",
      "Using downloaded and verified file: http://ufldl.stanford.edu/housenumbers/test_32x32.mat\n",
      "Epoch: 1/20  Training Loss: 0.974  Test Loss: 0.737  Test Accuracy: 0.780\n",
      "Epoch: 2/20  Training Loss: 0.594  Test Loss: 0.659  Test Accuracy: 0.803\n",
      "Epoch: 3/20  Training Loss: 0.523  Test Loss: 0.594  Test Accuracy: 0.821\n",
      "Epoch: 4/20  Training Loss: 0.482  Test Loss: 0.536  Test Accuracy: 0.837\n",
      "Epoch: 5/20  Training Loss: 0.456  Test Loss: 0.543  Test Accuracy: 0.837\n",
      "Epoch: 6/20  Training Loss: 0.436  Test Loss: 0.533  Test Accuracy: 0.842\n",
      "Epoch: 7/20  Training Loss: 0.425  Test Loss: 0.524  Test Accuracy: 0.840\n",
      "Epoch: 8/20  Training Loss: 0.412  Test Loss: 0.510  Test Accuracy: 0.846\n",
      "Epoch: 9/20  Training Loss: 0.402  Test Loss: 0.500  Test Accuracy: 0.854\n",
      "Epoch: 10/20  Training Loss: 0.393  Test Loss: 0.506  Test Accuracy: 0.851\n",
      "Epoch: 11/20  Training Loss: 0.387  Test Loss: 0.511  Test Accuracy: 0.848\n",
      "Epoch: 12/20  Training Loss: 0.381  Test Loss: 0.498  Test Accuracy: 0.853\n",
      "Epoch: 13/20  Training Loss: 0.375  Test Loss: 0.543  Test Accuracy: 0.842\n",
      "Epoch: 14/20  Training Loss: 0.368  Test Loss: 0.519  Test Accuracy: 0.851\n",
      "Epoch: 15/20  Training Loss: 0.368  Test Loss: 0.511  Test Accuracy: 0.852\n",
      "Epoch: 16/20  Training Loss: 0.362  Test Loss: 0.499  Test Accuracy: 0.856\n",
      "Epoch: 17/20  Training Loss: 0.358  Test Loss: 0.515  Test Accuracy: 0.854\n",
      "Epoch: 18/20  Training Loss: 0.351  Test Loss: 0.517  Test Accuracy: 0.854\n",
      "Epoch: 19/20  Training Loss: 0.351  Test Loss: 0.502  Test Accuracy: 0.859\n",
      "Epoch: 20/20  Training Loss: 0.344  Test Loss: 0.511  Test Accuracy: 0.855\n"
     ]
    }
   ],
   "source": [
    "\n",
    "root='http://ufldl.stanford.edu/housenumbers/'\n",
    "\n",
    "transform_one_channel = transforms.Compose([\n",
    "                               # transforms.ToPILImage(),\n",
    "                                transforms.CenterCrop((28, 28)),\n",
    "                                transforms.Grayscale(num_output_channels=1), \n",
    "                                transforms.RandomHorizontalFlip(),                             \n",
    "                                transforms.ToTensor(),\n",
    "                                transforms.Normalize([0.5,],[0.5,])\n",
    "                                ])\n",
    "\n",
    "\n",
    "transform_one_channel_test = transforms.Compose([\n",
    "                               # transforms.ToPILImage(),\n",
    "                                transforms.CenterCrop((28, 28)),\n",
    "                                transforms.Grayscale(num_output_channels=1),                              \n",
    "                                transforms.ToTensor(),\n",
    "                                transforms.Normalize([0.5,],[0.5,])\n",
    "                                ])\n",
    "\n",
    "train = torchvision.datasets.SVHN(root, split='train', transform=transform_one_channel, target_transform=None, download=True)\n",
    "\n",
    "dataloader_train = torch.utils.data.DataLoader(train, batch_size=32, shuffle=True)\n",
    "\n",
    "test = torchvision.datasets.SVHN(root, split='test', transform=transform_one_channel_test, target_transform=None, download=True)\n",
    "\n",
    "dataloader_test = torch.utils.data.DataLoader(test, batch_size=32, shuffle=True)\n",
    "\n",
    "images_train, labels_train = next(iter(dataloader_train))\n",
    "images_test, labels_test = next(iter(dataloader_test))\n",
    "\n",
    "#print(\"Shape of train inputs: \", images_train.shape, \"; Shape of train labels: \", labels_train.shape)\n",
    "#print(\"Shape of test inputs: \",images_test.shape, \"; Shape of test inputs: \", labels_test.shape)\n",
    "#print(\"Batch size = 64\")\n",
    "\n",
    "\n",
    "\n",
    "\n",
    "\n",
    "class ClassifierCNN(nn.Module):\n",
    "    def __init__(self):\n",
    "        super().__init__()\n",
    "        self.conv1=nn.Conv2d(1,8,5)\n",
    "        self.conv2=nn.Conv2d(8,16,5)\n",
    "        self.fc1 = nn.Linear(256, 128) \n",
    "        self.fc2 = nn.Linear(128, 64)\n",
    "        self.fc3 = nn.Linear(64, 10)\n",
    "        \n",
    "    def forward(self, x): \n",
    "        x = F.max_pool2d(F.relu(self.conv1(x)), (2,2))\n",
    "        x = F.max_pool2d(F.relu(self.conv2(x)), 2)\n",
    "        x = x.view(x.shape[0], -1)   \n",
    "        x = F.relu(self.fc1(x))\n",
    "        x = F.relu(self.fc2(x))\n",
    "        x = self.fc3(x)\n",
    "\n",
    "        return x\n",
    "\n",
    "\n",
    "\n",
    "model = ClassifierCNN()\n",
    "device = torch.device(\"cuda\" if torch.cuda.is_available() else \"cpu\")\n",
    "model=model.to(device)\n",
    "\n",
    "\n",
    "criterion = nn.CrossEntropyLoss()\n",
    "optimizer = optim.Adam(model.parameters(), lr=0.002)\n",
    "\n",
    "\n",
    "\n",
    "\n",
    "epochs = 20\n",
    "all_train_loss=[]\n",
    "all_test_loss=[]\n",
    "\n",
    "for e in range(epochs):\n",
    "    train_loss = 0\n",
    "    test_loss = 0\n",
    "    accuracy = 0\n",
    "\n",
    "    for images, labels in dataloader_train:\n",
    "\n",
    "      images=images.to(device)\n",
    "      labels=labels.to(device)\n",
    "      log_ps = model(images)\n",
    "      loss = criterion(log_ps, labels)\n",
    "        \n",
    "      optimizer.zero_grad()\n",
    "      loss.backward()\n",
    "      optimizer.step()\n",
    "        \n",
    "      train_loss += loss.item()\n",
    "\n",
    "    else:\n",
    "      with torch.no_grad():\n",
    "        for img, labels in dataloader_test:\n",
    "          model.eval()\n",
    "          img=img.to(device)\n",
    "          labels=labels.to(device)\n",
    "          log_ps=model(img)\n",
    "          loss = criterion(log_ps, labels)\n",
    "          test_loss+= loss.item()\n",
    "          \n",
    "          ps = torch.exp(log_ps)\n",
    "          top_p, top_class = ps.topk(1, dim=1)\n",
    "\n",
    "\n",
    "          equals = top_class == labels.view(*top_class.shape)\n",
    "          accuracy += torch.mean(equals.type(torch.FloatTensor))\n",
    "      model.train()\n",
    "      all_train_loss.append(train_loss/len(dataloader_train))\n",
    "      all_test_loss.append(test_loss/len(dataloader_test))\n",
    "\n",
    " \n",
    "      print(\"Epoch: {}/{} \".format(e+1, epochs),\n",
    "            \"Training Loss: {:.3f} \".format(train_loss/len(dataloader_train)),\n",
    "            \"Test Loss: {:.3f} \".format(test_loss/len(dataloader_test)),\n",
    "            \"Test Accuracy: {:.3f}\".format(accuracy/len(dataloader_test)))\n",
    "\n",
    "\n"
   ]
  },
  {
   "cell_type": "code",
   "execution_count": 0,
   "metadata": {
    "colab": {
     "base_uri": "https://localhost:8080/",
     "height": 285
    },
    "colab_type": "code",
    "id": "eEX3YqyacPit",
    "outputId": "a2d3d08c-827f-4b2a-fc97-878e31a8e59b"
   },
   "outputs": [
    {
     "data": {
      "text/plain": [
       "<matplotlib.legend.Legend at 0x7fe83b983be0>"
      ]
     },
     "execution_count": 75,
     "metadata": {
      "tags": []
     },
     "output_type": "execute_result"
    },
    {
     "data": {
      "image/png": "[encoded data removed]",
      "text/plain": [
       "<Figure size 432x288 with 1 Axes>"
      ]
     },
     "metadata": {
      "needs_background": "light",
      "tags": []
     },
     "output_type": "display_data"
    }
   ],
   "source": [
    "plt.plot(all_train_loss, label=\"Train loss\")\n",
    "plt.plot(all_test_loss, label=\"Test loss\")\n",
    "plt.legend()"
   ]
  },
  {
   "cell_type": "code",
   "execution_count": 0,
   "metadata": {
    "colab": {},
    "colab_type": "code",
    "id": "nCHGSUfEh7lF"
   },
   "outputs": [],
   "source": []
  },
  {
   "cell_type": "markdown",
   "metadata": {
    "colab_type": "text",
    "id": "WiqwSo3Nh8IA"
   },
   "source": [
    "# CNN test 2\n",
    "filter 5\n",
    "\n",
    "Epoch: 21/30  Training Loss: 0.445  Test Loss: 0.577  Test Accuracy: 0.825"
   ]
  },
  {
   "cell_type": "code",
   "execution_count": 0,
   "metadata": {
    "colab": {
     "base_uri": "https://localhost:8080/",
     "height": 561
    },
    "colab_type": "code",
    "id": "dFqX1-GzqOF1",
    "outputId": "a1dcee22-f3d1-4cec-8ef4-dd05432aa149"
   },
   "outputs": [
    {
     "name": "stdout",
     "output_type": "stream",
     "text": [
      "Using downloaded and verified file: http://ufldl.stanford.edu/housenumbers/train_32x32.mat\n",
      "Using downloaded and verified file: http://ufldl.stanford.edu/housenumbers/test_32x32.mat\n",
      "Epoch: 1/30  Training Loss: 1.374  Test Loss: 0.991  Test Accuracy: 0.683\n",
      "Epoch: 2/30  Training Loss: 0.842  Test Loss: 0.867  Test Accuracy: 0.724\n",
      "Epoch: 3/30  Training Loss: 0.741  Test Loss: 0.800  Test Accuracy: 0.744\n",
      "Epoch: 4/30  Training Loss: 0.681  Test Loss: 0.755  Test Accuracy: 0.760\n",
      "Epoch: 5/30  Training Loss: 0.647  Test Loss: 0.735  Test Accuracy: 0.766\n",
      "Epoch: 6/30  Training Loss: 0.616  Test Loss: 0.718  Test Accuracy: 0.773\n",
      "Epoch: 7/30  Training Loss: 0.591  Test Loss: 0.732  Test Accuracy: 0.772\n",
      "Epoch: 8/30  Training Loss: 0.570  Test Loss: 0.706  Test Accuracy: 0.777\n",
      "Epoch: 9/30  Training Loss: 0.551  Test Loss: 0.687  Test Accuracy: 0.785\n",
      "Epoch: 10/30  Training Loss: 0.538  Test Loss: 0.685  Test Accuracy: 0.786\n",
      "Epoch: 11/30  Training Loss: 0.521  Test Loss: 0.634  Test Accuracy: 0.803\n",
      "Epoch: 12/30  Training Loss: 0.515  Test Loss: 0.631  Test Accuracy: 0.802\n",
      "Epoch: 13/30  Training Loss: 0.501  Test Loss: 0.623  Test Accuracy: 0.805\n",
      "Epoch: 14/30  Training Loss: 0.490  Test Loss: 0.636  Test Accuracy: 0.804\n",
      "Epoch: 15/30  Training Loss: 0.481  Test Loss: 0.634  Test Accuracy: 0.802\n",
      "Epoch: 16/30  Training Loss: 0.472  Test Loss: 0.597  Test Accuracy: 0.820\n",
      "Epoch: 17/30  Training Loss: 0.467  Test Loss: 0.604  Test Accuracy: 0.814\n",
      "Epoch: 18/30  Training Loss: 0.460  Test Loss: 0.598  Test Accuracy: 0.817\n",
      "Epoch: 19/30  Training Loss: 0.455  Test Loss: 0.606  Test Accuracy: 0.810\n",
      "Epoch: 20/30  Training Loss: 0.448  Test Loss: 0.601  Test Accuracy: 0.817\n",
      "Epoch: 21/30  Training Loss: 0.445  Test Loss: 0.577  Test Accuracy: 0.825\n",
      "Epoch: 22/30  Training Loss: 0.441  Test Loss: 0.604  Test Accuracy: 0.816\n",
      "Epoch: 23/30  Training Loss: 0.433  Test Loss: 0.586  Test Accuracy: 0.818\n",
      "Epoch: 24/30  Training Loss: 0.430  Test Loss: 0.584  Test Accuracy: 0.825\n",
      "Epoch: 25/30  Training Loss: 0.426  Test Loss: 0.600  Test Accuracy: 0.819\n",
      "Epoch: 26/30  Training Loss: 0.428  Test Loss: 0.578  Test Accuracy: 0.824\n",
      "Epoch: 27/30  Training Loss: 0.423  Test Loss: 0.583  Test Accuracy: 0.822\n",
      "Epoch: 28/30  Training Loss: 0.419  Test Loss: 0.600  Test Accuracy: 0.812\n",
      "Epoch: 29/30  Training Loss: 0.417  Test Loss: 0.579  Test Accuracy: 0.825\n",
      "Epoch: 30/30  Training Loss: 0.415  Test Loss: 0.568  Test Accuracy: 0.830\n"
     ]
    }
   ],
   "source": [
    "\n",
    "root='http://ufldl.stanford.edu/housenumbers/'\n",
    "\n",
    "transform_one_channel = transforms.Compose([\n",
    "                               # transforms.ToPILImage(),\n",
    "                                transforms.CenterCrop((28, 28)),\n",
    "                                transforms.Grayscale(num_output_channels=1), \n",
    "                                transforms.RandomHorizontalFlip(),                             \n",
    "                                transforms.ToTensor(),\n",
    "                                transforms.Normalize([0.5,],[0.5,])\n",
    "                                ])\n",
    "\n",
    "\n",
    "transform_one_channel_test = transforms.Compose([\n",
    "                               # transforms.ToPILImage(),\n",
    "                                transforms.CenterCrop((28, 28)),\n",
    "                                transforms.Grayscale(num_output_channels=1),                              \n",
    "                                transforms.ToTensor(),\n",
    "                                transforms.Normalize([0.5,],[0.5,])\n",
    "                                ])\n",
    "\n",
    "train = torchvision.datasets.SVHN(root, split='train', transform=transform_one_channel, target_transform=None, download=True)\n",
    "\n",
    "dataloader_train = torch.utils.data.DataLoader(train, batch_size=64, shuffle=True)\n",
    "\n",
    "test = torchvision.datasets.SVHN(root, split='test', transform=transform_one_channel_test, target_transform=None, download=True)\n",
    "\n",
    "dataloader_test = torch.utils.data.DataLoader(test, batch_size=64, shuffle=True)\n",
    "\n",
    "images_train, labels_train = next(iter(dataloader_train))\n",
    "images_test, labels_test = next(iter(dataloader_test))\n",
    "\n",
    "#print(\"Shape of train inputs: \", images_train.shape, \"; Shape of train labels: \", labels_train.shape)\n",
    "#print(\"Shape of test inputs: \",images_test.shape, \"; Shape of test inputs: \", labels_test.shape)\n",
    "#print(\"Batch size = 64\")\n",
    "\n",
    "\n",
    "\n",
    "class ClassifierCNN(nn.Module):\n",
    "    def __init__(self):\n",
    "        super().__init__()\n",
    "        self.conv1=nn.Conv2d(1,5,2)\n",
    "        self.conv2=nn.Conv2d(5,16,2)\n",
    "        self.fc1 = nn.Linear(576, 128) \n",
    "        self.fc2 = nn.Linear(128, 64)\n",
    "        self.fc3 = nn.Linear(64, 10)\n",
    "        \n",
    "    def forward(self, x): \n",
    "        x = F.max_pool2d(F.relu(self.conv1(x)), (2,2))\n",
    "        x = F.max_pool2d(F.relu(self.conv2(x)), 2)\n",
    "        x = x.view(x.shape[0], -1)   \n",
    "        x = F.relu(self.fc1(x))\n",
    "        x = F.relu(self.fc2(x))\n",
    "        x = F.log_softmax(self.fc3(x), dim=1)\n",
    "\n",
    "        return x\n",
    "\n",
    "\n",
    "\n",
    "model = ClassifierCNN()\n",
    "device = torch.device(\"cuda\" if torch.cuda.is_available() else \"cpu\")\n",
    "model=model.to(device)\n",
    "\n",
    "\n",
    "criterion = nn.NLLLoss()\n",
    "optimizer = optim.Adam(model.parameters(), lr=0.003)\n",
    "\n",
    "\n",
    "\n",
    "\n",
    "epochs = 30\n",
    "all_train_loss=[]\n",
    "all_test_loss=[]\n",
    "\n",
    "for e in range(epochs):\n",
    "    train_loss = 0\n",
    "    test_loss = 0\n",
    "    accuracy = 0\n",
    "\n",
    "    for images, labels in dataloader_train:\n",
    "\n",
    "      images=images.to(device)\n",
    "      labels=labels.to(device)\n",
    "      log_ps = model(images)\n",
    "      loss = criterion(log_ps, labels)\n",
    "        \n",
    "      optimizer.zero_grad()\n",
    "      loss.backward()\n",
    "      optimizer.step()\n",
    "        \n",
    "      train_loss += loss.item()\n",
    "\n",
    "    else:\n",
    "      with torch.no_grad():\n",
    "        for img, labels in dataloader_test:\n",
    "          model.eval()\n",
    "          img=img.to(device)\n",
    "          labels=labels.to(device)\n",
    "          log_ps=model(img)\n",
    "          loss = criterion(log_ps, labels)\n",
    "          test_loss+= loss.item()\n",
    "          \n",
    "          ps = torch.exp(log_ps)\n",
    "          top_p, top_class = ps.topk(1, dim=1)\n",
    "\n",
    "\n",
    "          equals = top_class == labels.view(*top_class.shape)\n",
    "          accuracy += torch.mean(equals.type(torch.FloatTensor))\n",
    "      model.train()\n",
    "      all_train_loss.append(train_loss/len(dataloader_train))\n",
    "      all_test_loss.append(test_loss/len(dataloader_test))\n",
    "\n",
    " \n",
    "      print(\"Epoch: {}/{} \".format(e+1, epochs),\n",
    "            \"Training Loss: {:.3f} \".format(train_loss/len(dataloader_train)),\n",
    "            \"Test Loss: {:.3f} \".format(test_loss/len(dataloader_test)),\n",
    "            \"Test Accuracy: {:.3f}\".format(accuracy/len(dataloader_test)))\n",
    "\n",
    "\n"
   ]
  },
  {
   "cell_type": "code",
   "execution_count": 0,
   "metadata": {
    "colab": {
     "base_uri": "https://localhost:8080/",
     "height": 282
    },
    "colab_type": "code",
    "id": "Q4aoT5k0krss",
    "outputId": "ba7bc7ee-9c73-46bb-a44e-be93f7835134"
   },
   "outputs": [
    {
     "data": {
      "text/plain": [
       "<matplotlib.legend.Legend at 0x7fe83b5aca90>"
      ]
     },
     "execution_count": 79,
     "metadata": {
      "tags": []
     },
     "output_type": "execute_result"
    },
    {
     "data": {
      "image/png": "[encoded data removed]",
      "text/plain": [
       "<Figure size 432x288 with 1 Axes>"
      ]
     },
     "metadata": {
      "needs_background": "light",
      "tags": []
     },
     "output_type": "display_data"
    }
   ],
   "source": [
    "plt.plot(all_train_loss, label=\"Train loss\")\n",
    "plt.plot(all_test_loss, label=\"Test loss\")\n",
    "plt.legend()"
   ]
  }
 ],
 "metadata": {
  "accelerator": "GPU",
  "colab": {
   "collapsed_sections": [
    "1fY2jzZBj3Zp",
    "-Vj8j6zzmO5l",
    "L43KivHnmU-p",
    "Rzjy1zTNXpjP",
    "93VsoSWnO1Cv",
    "-E1WJDRdtN1y",
    "Y_ghuD0ZtYpI",
    "SdnaJxtVOtDS",
    "xedKcBIi3b7E",
    "aT9hbQD-M1UB",
    "gs8QOqF7Z5u1",
    "y7MOLjLJZ9B4",
    "WiqwSo3Nh8IA"
   ],
   "name": "Additional_(afterdeadline)_Final_Project_Lelas.ipynb",
   "provenance": []
  },
  "kernelspec": {
   "display_name": "Python 3",
   "language": "python",
   "name": "python3"
  },
  "language_info": {
   "codemirror_mode": {
    "name": "ipython",
    "version": 3
   },
   "file_extension": ".py",
   "mimetype": "text/x-python",
   "name": "python",
   "nbconvert_exporter": "python",
   "pygments_lexer": "ipython3",
   "version": "3.7.3"
  }
 },
 "nbformat": 4,
 "nbformat_minor": 1
}
